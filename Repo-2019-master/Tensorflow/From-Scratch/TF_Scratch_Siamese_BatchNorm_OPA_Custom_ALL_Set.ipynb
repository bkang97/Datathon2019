{
 "cells": [
  {
   "cell_type": "code",
   "execution_count": 109,
   "metadata": {},
   "outputs": [
    {
     "name": "stdout",
     "output_type": "stream",
     "text": [
      "Collecting numpy<1.17\n",
      "  Using cached https://files.pythonhosted.org/packages/1f/c7/198496417c9c2f6226616cff7dedf2115a4f4d0276613bab842ec8ac1e23/numpy-1.16.4-cp27-cp27mu-manylinux1_x86_64.whl\n",
      "Installing collected packages: numpy\n",
      "Successfully installed numpy-1.16.4\n"
     ]
    }
   ],
   "source": [
    "! pip install \"numpy<1.17\"\n",
    "\n",
    "import tensorflow as tf\n",
    "import numpy as np\n",
    "import matplotlib.pyplot as plt\n",
    "import pandas as pd"
   ]
  },
  {
   "cell_type": "code",
   "execution_count": 110,
   "metadata": {},
   "outputs": [
    {
     "data": {
      "text/plain": [
       "(60000, 28, 28)"
      ]
     },
     "execution_count": 110,
     "metadata": {},
     "output_type": "execute_result"
    }
   ],
   "source": [
    "from keras.datasets import mnist\n",
    "\n",
    "(x_train, y_train), (x_test, y_test) = mnist.load_data()\n",
    "\n",
    "x_train.shape"
   ]
  },
  {
   "cell_type": "code",
   "execution_count": 111,
   "metadata": {},
   "outputs": [],
   "source": [
    "from tensorflow.keras import layers\n",
    "\n",
    "class Linear(layers.Layer):\n",
    "    def __init__(self,units=128, input_dim=128):\n",
    "        super(Linear,self).__init__()\n",
    "        w_init=tf.contrib.layers.xavier_initializer()\n",
    "        self.weights2=tf.Variable(initial_value=w_init(shape=(input_dim,units),\n",
    "                                                      dtype=tf.float32),trainable=True)\n",
    "        b_init=tf.contrib.layers.xavier_initializer()\n",
    "        self.bias2=tf.Variable(initial_value=b_init(shape=(units,),dtype=tf.float32),\n",
    "                              trainable=True)\n",
    "    def call(self,inputs):\n",
    "        return tf.matmul(inputs,self.weights2)+self.bias2"
   ]
  },
  {
   "cell_type": "code",
   "execution_count": null,
   "metadata": {},
   "outputs": [],
   "source": []
  },
  {
   "cell_type": "code",
   "execution_count": 112,
   "metadata": {},
   "outputs": [
    {
     "name": "stderr",
     "output_type": "stream",
     "text": [
      "/home/rubensvectomobile_gmail_com/.local/lib/python3.5/site-packages/tensorflow/python/client/session.py:1735: UserWarning: An interactive session is already active. This can cause out-of-memory errors in some cases. You must explicitly call `InteractiveSession.close()` to release resources held by the other session(s).\n",
      "  warnings.warn('An interactive session is already active. This can '\n"
     ]
    }
   ],
   "source": [
    "from tensorflow.compat.v1 import ConfigProto\n",
    "from tensorflow.compat.v1 import InteractiveSession\n",
    "from tensorflow.contrib.layers.python.layers import batch_norm as batch_norm\n",
    "\n",
    "config = ConfigProto()\n",
    "config.gpu_options.allow_growth = True\n",
    "session = InteractiveSession(config=config)\n",
    "\n",
    "batch_size=5000\n",
    "\n",
    "tf.reset_default_graph()\n",
    "graph = tf.Graph()\n",
    "with graph.as_default():\n",
    "    #tf.set_random_seed(2)\n",
    "    \n",
    "    X = tf.placeholder(dtype=tf.float32)\n",
    "    X2 = tf.placeholder(dtype=tf.float32)\n",
    "    Y = tf.placeholder(dtype=tf.float32)\n",
    "    \n",
    "    num_hidden=128\n",
    "    \n",
    "    linear_layer = Linear(batch_size,num_hidden)\n",
    "\n",
    "\n",
    "    # Build a hidden layer Left\n",
    "    W_hidden = tf.Variable(tf.contrib.layers.xavier_initializer()(shape=[784, num_hidden]))\n",
    "    b_hidden = tf.Variable(tf.contrib.layers.xavier_initializer()(shape=[num_hidden]))\n",
    "    p_hidden = tf.nn.relu( tf.add(tf.matmul(X, W_hidden), b_hidden) )\n",
    "\n",
    "    W_hidden2 = tf.Variable(tf.contrib.layers.xavier_initializer()(shape=[num_hidden, num_hidden]))\n",
    "    b_hidden2 = tf.Variable(tf.contrib.layers.xavier_initializer()(shape=[num_hidden]))\n",
    "    p_hidden2 = tf.layers.batch_normalization(tf.reshape(tf.add(tf.matmul(p_hidden, W_hidden2), b_hidden2) ,[batch_size,num_hidden]))\n",
    "    p_hidden22 = tf.nn.relu(p_hidden2)\n",
    "\n",
    "    # Build a hidden layer Right\n",
    "    W_hiddenR = tf.Variable(tf.contrib.layers.xavier_initializer()(shape=[784, num_hidden]))\n",
    "    b_hiddenR = tf.Variable(tf.contrib.layers.xavier_initializer()(shape=[num_hidden]))\n",
    "    p_hiddenR = tf.nn.relu( tf.add(tf.matmul(X2, W_hiddenR), b_hiddenR) )\n",
    "\n",
    "    W_hidden2R = tf.Variable(tf.contrib.layers.xavier_initializer()(shape=[num_hidden, num_hidden]))\n",
    "    b_hidden2R = tf.Variable(tf.contrib.layers.xavier_initializer()(shape=[num_hidden]))\n",
    "    p_hidden2R = tf.layers.batch_normalization(tf.reshape(tf.add(tf.matmul(p_hiddenR, W_hidden2R), b_hidden2R),[batch_size,num_hidden]))\n",
    "    p_hidden2R2 = tf.nn.relu(p_hidden2R)\n",
    "\n",
    "    # Conncatenate Left + Right\n",
    "    W_concat = tf.Variable(tf.contrib.layers.xavier_initializer()(shape=[num_hidden,num_hidden]))\n",
    "    b_concat = tf.Variable(tf.zeros(shape=[num_hidden]))\n",
    "    p_concat2 = tf.add(tf.matmul(tf.divide(tf.math.add(p_hidden22,p_hidden2R2),2), W_concat), b_concat)\n",
    "    p_concat3 = tf.layers.batch_normalization(tf.reshape(p_concat2,[batch_size,num_hidden]))\n",
    "    linear1=linear_layer(p_concat3)\n",
    "    p_concat22=tf.nn.relu(linear1)\n",
    "    \n",
    "    # Build the output layer\n",
    "    W_output = tf.Variable(tf.contrib.layers.xavier_initializer()(shape=[batch_size, 10]))\n",
    "    b_output = tf.Variable(tf.zeros(shape=[10]))\n",
    "    p_output = tf.nn.softmax( tf.add(tf.matmul(p_concat22, W_output), b_output))\n",
    "    \n",
    "    loss = tf.reduce_mean(tf.nn.softmax_cross_entropy_with_logits_v2(labels=Y,logits=p_output))\n",
    "    acc, acc_op = tf.metrics.accuracy(labels=tf.argmax(Y,1), \n",
    "                                      predictions=tf.argmax(p_output,1))\n",
    "    \n",
    "    minimization_op = tf.train.GradientDescentOptimizer(learning_rate=0.001).minimize(loss)\n",
    "    saver = tf.train.Saver()\n",
    "    \n",
    "    limit=10000\n",
    "    \n",
    "    def norm(x):\n",
    "        return (x-np.min(x))/(np.max(x)-np.min(x))\n",
    "\n",
    "    feed_dict = {\n",
    "        X: norm(x_train.reshape(-1,784)),\n",
    "        X2: norm(x_train.reshape(-1,784)),\n",
    "        Y: pd.get_dummies(y_train)\n",
    "    }"
   ]
  },
  {
   "cell_type": "code",
   "execution_count": 113,
   "metadata": {},
   "outputs": [],
   "source": [
    "def next_batch(num, data, labels):\n",
    "    idx = np.arange(0 , len(data))\n",
    "    np.random.shuffle(idx)\n",
    "    idx = idx[:num]\n",
    "    data_shuffle = [data[ i] for i in idx]\n",
    "    labels_shuffle = [labels[ i] for i in idx]\n",
    "    return np.asarray(data_shuffle).astype(np.float32), np.asarray(labels_shuffle).astype(np.float32)"
   ]
  },
  {
   "cell_type": "code",
   "execution_count": null,
   "metadata": {
    "scrolled": false
   },
   "outputs": [
    {
     "name": "stdout",
     "output_type": "stream",
     "text": [
      "Step: 0  Loss: 2.3025355  Accuracy: 0.1278\n",
      "Step: 10  Loss: 2.3026452  Accuracy: 0.1302\n",
      "Step: 20  Loss: 2.3025477  Accuracy: 0.127\n",
      "Step: 30  Loss: 2.3026419  Accuracy: 0.13\n",
      "Step: 40  Loss: 2.302527  Accuracy: 0.1328\n",
      "Step: 50  Loss: 2.3026233  Accuracy: 0.1258\n",
      "Step: 60  Loss: 2.3025606  Accuracy: 0.1322\n",
      "Step: 70  Loss: 2.3026102  Accuracy: 0.1244\n",
      "Step: 80  Loss: 2.302587  Accuracy: 0.133\n",
      "Step: 90  Loss: 2.3024757  Accuracy: 0.133\n",
      "Step: 100  Loss: 2.3024933  Accuracy: 0.1294\n",
      "Step: 110  Loss: 2.30279  Accuracy: 0.1186\n",
      "Step: 120  Loss: 2.3027296  Accuracy: 0.1168\n",
      "Step: 130  Loss: 2.3026624  Accuracy: 0.1222\n",
      "Step: 140  Loss: 2.3025994  Accuracy: 0.1282\n",
      "Step: 150  Loss: 2.3025682  Accuracy: 0.13\n",
      "Step: 160  Loss: 2.3026538  Accuracy: 0.128\n",
      "Step: 170  Loss: 2.302488  Accuracy: 0.1352\n",
      "Step: 180  Loss: 2.3024745  Accuracy: 0.1346\n",
      "Step: 190  Loss: 2.3024101  Accuracy: 0.1332\n",
      "Step: 200  Loss: 2.3026133  Accuracy: 0.1248\n",
      "Step: 210  Loss: 2.3024814  Accuracy: 0.131\n",
      "Step: 220  Loss: 2.3026676  Accuracy: 0.124\n",
      "Step: 230  Loss: 2.3025274  Accuracy: 0.1328\n",
      "Step: 240  Loss: 2.302627  Accuracy: 0.1262\n",
      "Step: 250  Loss: 2.3024411  Accuracy: 0.1306\n",
      "Step: 260  Loss: 2.3024714  Accuracy: 0.131\n",
      "Step: 270  Loss: 2.3025296  Accuracy: 0.1312\n",
      "Step: 280  Loss: 2.302559  Accuracy: 0.1296\n",
      "Step: 290  Loss: 2.3025167  Accuracy: 0.125\n",
      "Step: 300  Loss: 2.302537  Accuracy: 0.1296\n",
      "Step: 310  Loss: 2.3024385  Accuracy: 0.1306\n",
      "Step: 320  Loss: 2.3023553  Accuracy: 0.1348\n",
      "Step: 330  Loss: 2.3025122  Accuracy: 0.1348\n",
      "Step: 340  Loss: 2.3024852  Accuracy: 0.1312\n",
      "Step: 350  Loss: 2.3024688  Accuracy: 0.1268\n",
      "Step: 360  Loss: 2.302306  Accuracy: 0.1384\n",
      "Step: 370  Loss: 2.3024564  Accuracy: 0.1324\n",
      "Step: 380  Loss: 2.3024151  Accuracy: 0.137\n",
      "Step: 390  Loss: 2.3022835  Accuracy: 0.1416\n",
      "Step: 400  Loss: 2.3023558  Accuracy: 0.1296\n",
      "Step: 410  Loss: 2.3024611  Accuracy: 0.1282\n",
      "Step: 420  Loss: 2.3023942  Accuracy: 0.1296\n",
      "Step: 430  Loss: 2.3023458  Accuracy: 0.1432\n",
      "Step: 440  Loss: 2.3024817  Accuracy: 0.1326\n",
      "Step: 450  Loss: 2.3023918  Accuracy: 0.135\n",
      "Step: 460  Loss: 2.3023796  Accuracy: 0.136\n",
      "Step: 470  Loss: 2.302334  Accuracy: 0.134\n",
      "Step: 480  Loss: 2.302587  Accuracy: 0.1298\n",
      "Step: 490  Loss: 2.30235  Accuracy: 0.1334\n",
      "Step: 500  Loss: 2.302382  Accuracy: 0.1318\n",
      "Step: 510  Loss: 2.3024397  Accuracy: 0.1318\n",
      "Step: 520  Loss: 2.3025177  Accuracy: 0.135\n",
      "Step: 530  Loss: 2.3023121  Accuracy: 0.1396\n",
      "Step: 540  Loss: 2.3023214  Accuracy: 0.135\n",
      "Step: 550  Loss: 2.3023806  Accuracy: 0.1334\n",
      "Step: 560  Loss: 2.3023324  Accuracy: 0.1412\n",
      "Step: 570  Loss: 2.302386  Accuracy: 0.1378\n"
     ]
    }
   ],
   "source": [
    "\n",
    "with tf.Session(graph=graph, config=config) as session:\n",
    "    #ckpt = \"/home/rubensvectomobile/Scratch/Train/train4/model.ckpt\"\n",
    "    #saver.restore(session, ckpt)\n",
    "\n",
    "    init = tf.group(tf.global_variables_initializer(), tf.local_variables_initializer())\n",
    "    session.run(init)\n",
    "    \n",
    "    for step in range(35000):\n",
    "\n",
    "        X0, Y0 = next_batch(batch_size, x_train, y_train)\n",
    "        X02=X0\n",
    "        \n",
    "        feed_dict = {\n",
    "        X: norm(X0.reshape(-1,784)),\n",
    "        X2: norm(X02.reshape(-1,784)),\n",
    "        Y: pd.get_dummies(Y0)}\n",
    "        \n",
    "        J_value = session.run(loss, feed_dict)\n",
    "        acc = (batch_size-session.run(tf.count_nonzero(tf.add(tf.argmax(session.run(Y, feed_dict),1),-tf.argmax(session.run(p_output, feed_dict),1)))))/batch_size\n",
    "\n",
    "        session.run(minimization_op, feed_dict)\n",
    "        if step % 10 == 0:\n",
    "            print(\"Step:\", step, \" Loss:\", J_value,\" Accuracy:\", acc)\n",
    "            if acc > 0.92:\n",
    "                save_path = saver.save(session, \"/home/rubensvectomobile/Scratch/Train/train5/model.ckpt\")\n",
    "                print(\"Model saved in path: %s\" % save_path)\n",
    "\n"
   ]
  },
  {
   "cell_type": "code",
   "execution_count": null,
   "metadata": {},
   "outputs": [],
   "source": []
  },
  {
   "cell_type": "code",
   "execution_count": null,
   "metadata": {
    "scrolled": false
   },
   "outputs": [],
   "source": []
  },
  {
   "cell_type": "code",
   "execution_count": null,
   "metadata": {},
   "outputs": [],
   "source": []
  },
  {
   "cell_type": "code",
   "execution_count": null,
   "metadata": {},
   "outputs": [],
   "source": [
    "from sklearn.metrics import confusion_matrix\n",
    "confusion_matrix(y_test, np.argmax(np.array(pred00).reshape(60000,-1),axis=1))"
   ]
  },
  {
   "cell_type": "code",
   "execution_count": null,
   "metadata": {},
   "outputs": [],
   "source": []
  }
 ],
 "metadata": {
  "kernelspec": {
   "display_name": "Python 3",
   "language": "python",
   "name": "python3"
  },
  "language_info": {
   "codemirror_mode": {
    "name": "ipython",
    "version": 3
   },
   "file_extension": ".py",
   "mimetype": "text/x-python",
   "name": "python",
   "nbconvert_exporter": "python",
   "pygments_lexer": "ipython3",
   "version": "3.5.3"
  }
 },
 "nbformat": 4,
 "nbformat_minor": 2
}
