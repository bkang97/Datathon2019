{
 "cells": [
  {
   "cell_type": "code",
   "execution_count": 2,
   "metadata": {},
   "outputs": [],
   "source": [
    "#! pip install \"numpy<1.17\"\n",
    "\n",
    "import tensorflow as tf\n",
    "import numpy as np\n",
    "import matplotlib.pyplot as plt\n",
    "import pandas as pd"
   ]
  },
  {
   "cell_type": "code",
   "execution_count": 3,
   "metadata": {},
   "outputs": [
    {
     "name": "stderr",
     "output_type": "stream",
     "text": [
      "Using TensorFlow backend.\n"
     ]
    },
    {
     "data": {
      "text/plain": [
       "(60000, 28, 28)"
      ]
     },
     "execution_count": 3,
     "metadata": {},
     "output_type": "execute_result"
    }
   ],
   "source": [
    "from keras.datasets import mnist\n",
    "\n",
    "(x_train, y_train), (x_test, y_test) = mnist.load_data()\n",
    "\n",
    "x_train.shape"
   ]
  },
  {
   "cell_type": "code",
   "execution_count": 4,
   "metadata": {},
   "outputs": [],
   "source": [
    "from tensorflow.keras import layers\n",
    "\n",
    "class Linear(layers.Layer):\n",
    "    def __init__(self,units=128, input_dim=128):\n",
    "        super(Linear,self).__init__()\n",
    "        w_init=tf.contrib.layers.xavier_initializer()\n",
    "        self.weights2=tf.Variable(initial_value=w_init(shape=(input_dim,units),\n",
    "                                                      dtype=tf.float32),trainable=True)\n",
    "        b_init=tf.contrib.layers.xavier_initializer()\n",
    "        self.bias2=tf.Variable(initial_value=b_init(shape=(units,),dtype=tf.float32),\n",
    "                              trainable=True)\n",
    "    def call(self,inputs):\n",
    "        return tf.matmul(inputs,self.weights2)+self.bias2"
   ]
  },
  {
   "cell_type": "code",
   "execution_count": null,
   "metadata": {},
   "outputs": [],
   "source": []
  },
  {
   "cell_type": "code",
   "execution_count": 31,
   "metadata": {},
   "outputs": [
    {
     "name": "stderr",
     "output_type": "stream",
     "text": [
      "/home/rubensvectomobile_gmail_com/.local/lib/python3.5/site-packages/tensorflow/python/client/session.py:1735: UserWarning: An interactive session is already active. This can cause out-of-memory errors in some cases. You must explicitly call `InteractiveSession.close()` to release resources held by the other session(s).\n",
      "  warnings.warn('An interactive session is already active. This can '\n"
     ]
    }
   ],
   "source": [
    "from tensorflow.compat.v1 import ConfigProto\n",
    "from tensorflow.compat.v1 import InteractiveSession\n",
    "from tensorflow.contrib.layers.python.layers import batch_norm as batch_norm\n",
    "\n",
    "config = ConfigProto()\n",
    "config.gpu_options.allow_growth = True\n",
    "session = InteractiveSession(config=config)\n",
    "\n",
    "batch_size=5000\n",
    "\n",
    "tf.reset_default_graph()\n",
    "graph = tf.Graph()\n",
    "with graph.as_default():\n",
    "    #tf.set_random_seed(2)\n",
    "    \n",
    "    X = tf.placeholder(dtype=tf.float32)\n",
    "    #X2 = tf.placeholder(dtype=tf.float32)\n",
    "    Y = tf.placeholder(dtype=tf.float32)\n",
    "\n",
    "    num_hidden=128\n",
    "    \n",
    "    linear_layer = Linear(batch_size,num_hidden)\n",
    "\n",
    "\n",
    "    # Build a hidden layer\n",
    "    #W_hidden = tf.Variable(tf.contrib.layers.xavier_initializer()(shape=[784, num_hidden]))\n",
    "    #b_hidden = tf.Variable(tf.contrib.layers.xavier_initializer()(shape=[num_hidden]))\n",
    "    #p_hidden = tf.nn.relu( tf.add(tf.matmul(X, W_hidden), b_hidden) )\n",
    "\n",
    "    W_hidden2 = tf.Variable(tf.contrib.layers.xavier_initializer()(shape=[784, num_hidden]))\n",
    "    b_hidden2 = tf.Variable(tf.contrib.layers.xavier_initializer()(shape=[num_hidden]))\n",
    "    p_hidden22 = tf.add(tf.matmul(X, W_hidden2), b_hidden2)\n",
    "    p_hidden3 = tf.layers.batch_normalization(tf.reshape(p_hidden22,[batch_size,num_hidden]))\n",
    "    p_hidden22 = tf.nn.relu(p_hidden3)\n",
    "\n",
    "    # \n",
    "    W_concat = tf.Variable(tf.contrib.layers.xavier_initializer()(shape=[num_hidden,num_hidden]))\n",
    "    b_concat = tf.Variable(tf.zeros(shape=[num_hidden]))\n",
    "    p_concat2 = tf.add(tf.matmul(p_hidden22, W_concat), b_concat)\n",
    "    p_concat3 = tf.layers.batch_normalization(tf.reshape(p_concat2,[batch_size,num_hidden]))\n",
    "    linear1=linear_layer(p_concat3)\n",
    "    p_concat22=tf.nn.relu(linear1)\n",
    "    \n",
    "    # Build the output layer\n",
    "    W_output = tf.Variable(tf.contrib.layers.xavier_initializer()(shape=[batch_size, 10]))\n",
    "    b_output = tf.Variable(tf.contrib.layers.xavier_initializer()(shape=[10]))\n",
    "    p_output = tf.nn.softmax( tf.add(tf.matmul(p_concat22, W_output), b_output))\n",
    "    \n",
    "    loss = tf.reduce_mean(tf.nn.softmax_cross_entropy_with_logits_v2(labels=Y,logits=p_output))\n",
    "    acc, acc_op = tf.metrics.accuracy(labels=tf.argmax(Y,1), \n",
    "                                      predictions=tf.argmax(p_output,1))\n",
    "    \n",
    "    minimization_op = tf.train.GradientDescentOptimizer(learning_rate=0.06).minimize(loss)\n",
    "    saver = tf.train.Saver()\n",
    "    \n",
    "    limit=10000\n",
    "    \n",
    "    def norm(x):\n",
    "        return (x-np.min(x))/(np.max(x)-np.min(x))\n",
    "\n",
    "    feed_dict = {\n",
    "        X: norm(x_train.reshape(-1,784)),\n",
    "        #X2: norm(x_train.reshape(-1,784)),\n",
    "        Y: pd.get_dummies(y_train)\n",
    "    }"
   ]
  },
  {
   "cell_type": "code",
   "execution_count": null,
   "metadata": {},
   "outputs": [],
   "source": []
  },
  {
   "cell_type": "code",
   "execution_count": 32,
   "metadata": {},
   "outputs": [],
   "source": [
    "def next_batch(num, data, labels):\n",
    "    idx = np.arange(0 , len(data))\n",
    "    np.random.shuffle(idx)\n",
    "    idx = idx[:num]\n",
    "    data_shuffle = [data[ i] for i in idx]\n",
    "    labels_shuffle = [labels[ i] for i in idx]\n",
    "    return np.asarray(data_shuffle).astype(np.float32), np.asarray(labels_shuffle).astype(np.float32)"
   ]
  },
  {
   "cell_type": "code",
   "execution_count": 34,
   "metadata": {
    "scrolled": false
   },
   "outputs": [
    {
     "name": "stdout",
     "output_type": "stream",
     "text": [
      "Step: 0  Loss: 1.4762019  Accuracy: 0.9866\n",
      "Step: 10  Loss: 1.4756101  Accuracy: 0.9872\n",
      "Step: 20  Loss: 1.475983  Accuracy: 0.9868\n",
      "Step: 30  Loss: 1.4786718  Accuracy: 0.9838\n",
      "Step: 40  Loss: 1.4771191  Accuracy: 0.986\n",
      "Step: 50  Loss: 1.4770303  Accuracy: 0.9852\n",
      "Step: 60  Loss: 1.475833  Accuracy: 0.9872\n",
      "Step: 70  Loss: 1.4763572  Accuracy: 0.9858\n",
      "Step: 80  Loss: 1.476984  Accuracy: 0.9854\n",
      "Step: 90  Loss: 1.4757655  Accuracy: 0.9868\n",
      "Step: 100  Loss: 1.4775071  Accuracy: 0.985\n",
      "Step: 110  Loss: 1.4815911  Accuracy: 0.9808\n",
      "Step: 120  Loss: 1.4787176  Accuracy: 0.9836\n",
      "Step: 130  Loss: 1.475704  Accuracy: 0.987\n",
      "Step: 140  Loss: 1.4749098  Accuracy: 0.988\n",
      "Step: 150  Loss: 1.4775015  Accuracy: 0.9852\n",
      "Step: 160  Loss: 1.480595  Accuracy: 0.982\n",
      "Step: 170  Loss: 1.4776415  Accuracy: 0.9852\n",
      "Step: 180  Loss: 1.4779752  Accuracy: 0.9844\n",
      "Step: 190  Loss: 1.4756364  Accuracy: 0.9868\n",
      "Step: 200  Loss: 1.4779478  Accuracy: 0.9848\n",
      "Step: 210  Loss: 1.4824313  Accuracy: 0.98\n",
      "Step: 220  Loss: 1.4795115  Accuracy: 0.9828\n",
      "Step: 230  Loss: 1.4798024  Accuracy: 0.9828\n",
      "Step: 240  Loss: 1.4784397  Accuracy: 0.9836\n",
      "Step: 250  Loss: 1.478315  Accuracy: 0.9846\n",
      "Step: 260  Loss: 1.4767965  Accuracy: 0.9856\n",
      "Step: 270  Loss: 1.4775966  Accuracy: 0.9852\n",
      "Step: 280  Loss: 1.4779531  Accuracy: 0.985\n",
      "Step: 290  Loss: 1.475485  Accuracy: 0.9872\n",
      "Step: 300  Loss: 1.478302  Accuracy: 0.9842\n",
      "Step: 310  Loss: 1.4765365  Accuracy: 0.9866\n",
      "Step: 320  Loss: 1.4767032  Accuracy: 0.986\n",
      "Step: 330  Loss: 1.4753654  Accuracy: 0.9872\n",
      "Step: 340  Loss: 1.4772481  Accuracy: 0.985\n",
      "Step: 350  Loss: 1.4775845  Accuracy: 0.985\n",
      "Step: 360  Loss: 1.4783676  Accuracy: 0.984\n",
      "Step: 370  Loss: 1.476543  Accuracy: 0.986\n",
      "Step: 380  Loss: 1.4771848  Accuracy: 0.985\n",
      "Step: 390  Loss: 1.4784969  Accuracy: 0.9838\n",
      "Step: 400  Loss: 1.4764438  Accuracy: 0.9864\n",
      "Step: 410  Loss: 1.4780712  Accuracy: 0.9844\n",
      "Step: 420  Loss: 1.477369  Accuracy: 0.985\n",
      "Step: 430  Loss: 1.4789345  Accuracy: 0.9834\n",
      "Step: 440  Loss: 1.4793006  Accuracy: 0.9834\n",
      "Step: 450  Loss: 1.4747217  Accuracy: 0.9878\n",
      "Step: 460  Loss: 1.4782125  Accuracy: 0.9842\n",
      "Step: 470  Loss: 1.4738686  Accuracy: 0.9894\n",
      "Step: 480  Loss: 1.4765795  Accuracy: 0.9858\n",
      "Step: 490  Loss: 1.4765295  Accuracy: 0.986\n",
      "Step: 500  Loss: 1.4783766  Accuracy: 0.9842\n",
      "Step: 510  Loss: 1.475339  Accuracy: 0.987\n",
      "Step: 520  Loss: 1.4776214  Accuracy: 0.9848\n",
      "Step: 530  Loss: 1.4764377  Accuracy: 0.986\n",
      "Step: 540  Loss: 1.4755222  Accuracy: 0.9868\n",
      "Step: 550  Loss: 1.475991  Accuracy: 0.9866\n",
      "Step: 560  Loss: 1.4744061  Accuracy: 0.988\n",
      "Step: 570  Loss: 1.4719176  Accuracy: 0.9908\n",
      "Model saved in path: /home/rubensvectomobile/Scratch/Train/train1/model.ckpt\n",
      "Step: 580  Loss: 1.4789523  Accuracy: 0.9838\n",
      "Step: 590  Loss: 1.4783084  Accuracy: 0.9842\n",
      "Step: 600  Loss: 1.4773552  Accuracy: 0.9852\n",
      "Step: 610  Loss: 1.4737412  Accuracy: 0.9886\n",
      "Step: 620  Loss: 1.4789797  Accuracy: 0.9838\n",
      "Step: 630  Loss: 1.476317  Accuracy: 0.986\n",
      "Step: 640  Loss: 1.4785514  Accuracy: 0.9838\n",
      "Step: 650  Loss: 1.4728845  Accuracy: 0.9898\n",
      "Step: 660  Loss: 1.4765801  Accuracy: 0.986\n",
      "Step: 670  Loss: 1.4766605  Accuracy: 0.986\n",
      "Step: 680  Loss: 1.4753264  Accuracy: 0.9872\n",
      "Step: 690  Loss: 1.4780568  Accuracy: 0.9842\n",
      "Step: 700  Loss: 1.4769586  Accuracy: 0.9854\n",
      "Step: 710  Loss: 1.475968  Accuracy: 0.9866\n",
      "Step: 720  Loss: 1.480549  Accuracy: 0.9826\n",
      "Step: 730  Loss: 1.4747037  Accuracy: 0.9882\n",
      "Step: 740  Loss: 1.4791602  Accuracy: 0.9832\n",
      "Step: 750  Loss: 1.4776896  Accuracy: 0.9846\n",
      "Step: 760  Loss: 1.4767407  Accuracy: 0.9858\n",
      "Step: 770  Loss: 1.4772441  Accuracy: 0.9852\n",
      "Step: 780  Loss: 1.4753325  Accuracy: 0.9878\n",
      "Step: 790  Loss: 1.4744478  Accuracy: 0.988\n",
      "Step: 800  Loss: 1.479256  Accuracy: 0.9832\n",
      "Step: 810  Loss: 1.4754672  Accuracy: 0.9872\n",
      "Step: 820  Loss: 1.4780693  Accuracy: 0.9842\n",
      "Step: 830  Loss: 1.4772017  Accuracy: 0.985\n",
      "Step: 840  Loss: 1.4740261  Accuracy: 0.9886\n",
      "Step: 850  Loss: 1.4778314  Accuracy: 0.9848\n",
      "Step: 860  Loss: 1.4753231  Accuracy: 0.987\n",
      "Step: 870  Loss: 1.4804996  Accuracy: 0.9822\n",
      "Step: 880  Loss: 1.478455  Accuracy: 0.984\n",
      "Step: 890  Loss: 1.4759725  Accuracy: 0.9864\n",
      "Step: 900  Loss: 1.4775326  Accuracy: 0.985\n",
      "Step: 910  Loss: 1.4799867  Accuracy: 0.9828\n",
      "Step: 920  Loss: 1.4776195  Accuracy: 0.9846\n",
      "Step: 930  Loss: 1.4791136  Accuracy: 0.9832\n",
      "Step: 940  Loss: 1.4767334  Accuracy: 0.9862\n",
      "Step: 950  Loss: 1.4772986  Accuracy: 0.9854\n",
      "Step: 960  Loss: 1.4747462  Accuracy: 0.9876\n",
      "Step: 970  Loss: 1.4766438  Accuracy: 0.9858\n",
      "Step: 980  Loss: 1.4746772  Accuracy: 0.988\n",
      "Step: 990  Loss: 1.4766326  Accuracy: 0.986\n",
      "Step: 1000  Loss: 1.4753021  Accuracy: 0.9874\n",
      "Step: 1010  Loss: 1.4770577  Accuracy: 0.9856\n",
      "Step: 1020  Loss: 1.4755532  Accuracy: 0.9878\n",
      "Step: 1030  Loss: 1.4749523  Accuracy: 0.9878\n",
      "Step: 1040  Loss: 1.4749403  Accuracy: 0.9876\n",
      "Step: 1050  Loss: 1.4741337  Accuracy: 0.9884\n",
      "Step: 1060  Loss: 1.4779065  Accuracy: 0.985\n",
      "Step: 1070  Loss: 1.4742948  Accuracy: 0.9878\n",
      "Step: 1080  Loss: 1.4789717  Accuracy: 0.9836\n",
      "Step: 1090  Loss: 1.4757676  Accuracy: 0.9868\n",
      "Step: 1100  Loss: 1.4747695  Accuracy: 0.9878\n",
      "Step: 1110  Loss: 1.4755565  Accuracy: 0.9874\n",
      "Step: 1120  Loss: 1.4768162  Accuracy: 0.9858\n",
      "Step: 1130  Loss: 1.475456  Accuracy: 0.9874\n",
      "Step: 1140  Loss: 1.4748958  Accuracy: 0.9874\n",
      "Step: 1150  Loss: 1.4765741  Accuracy: 0.9858\n",
      "Step: 1160  Loss: 1.4748886  Accuracy: 0.9876\n",
      "Step: 1170  Loss: 1.4785186  Accuracy: 0.9836\n",
      "Step: 1180  Loss: 1.4765631  Accuracy: 0.9858\n",
      "Step: 1190  Loss: 1.4792169  Accuracy: 0.9834\n",
      "Step: 1200  Loss: 1.4775996  Accuracy: 0.9848\n",
      "Step: 1210  Loss: 1.4738178  Accuracy: 0.9888\n",
      "Step: 1220  Loss: 1.4789795  Accuracy: 0.984\n",
      "Step: 1230  Loss: 1.4771699  Accuracy: 0.9852\n",
      "Step: 1240  Loss: 1.4755647  Accuracy: 0.987\n",
      "Step: 1250  Loss: 1.4764085  Accuracy: 0.986\n",
      "Step: 1260  Loss: 1.4768213  Accuracy: 0.986\n",
      "Step: 1270  Loss: 1.4783214  Accuracy: 0.984\n",
      "Step: 1280  Loss: 1.4734851  Accuracy: 0.9892\n",
      "Step: 1290  Loss: 1.4764477  Accuracy: 0.9858\n"
     ]
    }
   ],
   "source": [
    "with tf.Session(graph=graph, config=config) as session:\n",
    "    ckpt = \"/home/rubensvectomobile/Scratch/Train/train7/model.ckpt\"\n",
    "    saver.restore(session, ckpt)\n",
    "\n",
    "    #init = tf.group(tf.global_variables_initializer(), tf.local_variables_initializer())\n",
    "    #session.run(init)\n",
    "    \n",
    "    for step in range(1300):\n",
    "\n",
    "        X0, Y0 = next_batch(batch_size, x_train, y_train)\n",
    "        X02=X0\n",
    "        \n",
    "        feed_dict = {\n",
    "        X: norm(X0.reshape(-1,784)),\n",
    "        #X2: norm(X02.reshape(-1,784)),\n",
    "        Y: pd.get_dummies(Y0)}\n",
    "\n",
    "        J_value = session.run(loss, feed_dict)\n",
    "        acc = (batch_size-session.run(tf.count_nonzero(tf.add(tf.argmax(session.run(Y, feed_dict),1),-tf.argmax(session.run(p_output, feed_dict),1)))))/batch_size\n",
    "\n",
    "        session.run(minimization_op, feed_dict)\n",
    "        if step % 10 == 0:\n",
    "            print(\"Step:\", step, \" Loss:\", J_value,\" Accuracy:\", acc)\n",
    "            if acc > 0.99:\n",
    "                save_path = saver.save(session, \"/home/rubensvectomobile/Scratch/Train/train1/model.ckpt\")\n",
    "                print(\"Model saved in path: %s\" % save_path)"
   ]
  },
  {
   "cell_type": "code",
   "execution_count": null,
   "metadata": {},
   "outputs": [],
   "source": []
  },
  {
   "cell_type": "code",
   "execution_count": 37,
   "metadata": {
    "scrolled": false
   },
   "outputs": [],
   "source": [
    "with tf.Session(graph=graph, config=config) as session:\n",
    "    ckpt = \"/home/rubensvectomobile/Scratch/Train/train7/model.ckpt\"\n",
    "    saver.restore(session, ckpt)\n",
    "\n",
    "    X02, Y02 = next_batch(5000, x_test, y_test)\n",
    "\n",
    "    feed_dict = {\n",
    "    X: norm(X02.reshape(-1,784)),\n",
    "    #X2: norm(X02.reshape(-1,784)),\n",
    "    Y: pd.get_dummies(Y0)}\n",
    "\n",
    "    prev = session.run(p_output, feed_dict)"
   ]
  },
  {
   "cell_type": "code",
   "execution_count": null,
   "metadata": {},
   "outputs": [],
   "source": []
  },
  {
   "cell_type": "code",
   "execution_count": 40,
   "metadata": {},
   "outputs": [
    {
     "data": {
      "text/plain": [
       "array([[484,   0,   0,   1,   0,   1,   2,   1,   0,   2],\n",
       "       [  0, 548,   1,   0,   0,   0,   1,   1,   1,   0],\n",
       "       [  2,   0, 490,   4,   1,   1,   2,   5,   2,   0],\n",
       "       [  0,   0,   2, 510,   0,   4,   0,   4,   3,   1],\n",
       "       [  1,   0,   1,   0, 450,   1,   4,   2,   0,   8],\n",
       "       [  2,   0,   0,   5,   0, 438,   3,   0,   3,   1],\n",
       "       [  6,   3,   0,   0,   2,   5, 484,   0,   0,   0],\n",
       "       [  0,   4,   8,   1,   1,   0,   0, 518,   1,   1],\n",
       "       [  2,   0,   1,   5,   3,   4,   2,   4, 456,   4],\n",
       "       [  0,   3,   0,   3,   3,   3,   1,   4,   0, 475]])"
      ]
     },
     "execution_count": 40,
     "metadata": {},
     "output_type": "execute_result"
    }
   ],
   "source": [
    "from sklearn.metrics import confusion_matrix\n",
    "confusion_matrix(Y02, np.argmax(prev,axis=1).reshape(5000,-1))"
   ]
  },
  {
   "cell_type": "code",
   "execution_count": null,
   "metadata": {},
   "outputs": [],
   "source": []
  }
 ],
 "metadata": {
  "kernelspec": {
   "display_name": "Python 3",
   "language": "python",
   "name": "python3"
  },
  "language_info": {
   "codemirror_mode": {
    "name": "ipython",
    "version": 3
   },
   "file_extension": ".py",
   "mimetype": "text/x-python",
   "name": "python",
   "nbconvert_exporter": "python",
   "pygments_lexer": "ipython3",
   "version": "3.5.3"
  }
 },
 "nbformat": 4,
 "nbformat_minor": 2
}
