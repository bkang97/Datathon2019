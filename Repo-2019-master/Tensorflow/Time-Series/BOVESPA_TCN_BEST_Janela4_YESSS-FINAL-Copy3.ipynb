{
 "cells": [
  {
   "cell_type": "code",
   "execution_count": 34,
   "metadata": {},
   "outputs": [
    {
     "name": "stdout",
     "output_type": "stream",
     "text": [
      "2037\n"
     ]
    },
    {
     "data": {
      "text/plain": [
       "<matplotlib.axes._subplots.AxesSubplot at 0x7f3d50070128>"
      ]
     },
     "execution_count": 34,
     "metadata": {},
     "output_type": "execute_result"
    },
    {
     "data": {
      "image/png": "[encoded data removed]",
      "text/plain": [
       "<Figure size 432x288 with 1 Axes>"
      ]
     },
     "metadata": {
      "needs_background": "light"
     },
     "output_type": "display_data"
    }
   ],
   "source": [
    "import datetime\n",
    "import pandas as pd\n",
    "import matplotlib.pyplot as plt\n",
    "from pandas_datareader import data\n",
    "#pip install pandas-datareader\n",
    "\n",
    "stock = 'MGLU3.SA'\n",
    "source = 'yahoo'\n",
    "\n",
    "# Set date range (Google went public August 19, 2004)\n",
    "start = datetime.datetime(2004, 8, 19)\n",
    "end = datetime.datetime(2019, 7, 19)\n",
    "\n",
    "# Collect Google stock data\n",
    "goog_df = data.DataReader(stock, source, start, end)\n",
    "\n",
    "dataset = goog_df['Adj Close']\n",
    "print(len(dataset))\n",
    "goog_df['Adj Close'].plot(kind='line', grid=True, title='GOOG Adjusted Closes, IPO through 2016')\n"
   ]
  },
  {
   "cell_type": "code",
   "execution_count": 35,
   "metadata": {},
   "outputs": [
    {
     "name": "stdout",
     "output_type": "stream",
     "text": [
      "2016 21\n"
     ]
    }
   ],
   "source": [
    "import tensorflow as tf\n",
    "import pandas as pd  \n",
    "import numpy as np\n",
    "from sklearn.preprocessing import MinMaxScaler\n",
    "import tensorflow_probability as tfp\n",
    "\n",
    "\n",
    "dataset = np.array(dataset.astype('float32')).reshape(-1,1)\n",
    "\n",
    "def norm(x):\n",
    "    return (x-np.min(x))/(np.max(x)-np.min(x))\n",
    "\n",
    "#dataset=norm(dataset)\n",
    "\n",
    "look_back=4\n",
    "np.random.seed(7)\n",
    "scaler = MinMaxScaler(feature_range=(0, 1))\n",
    "dataset = scaler.fit_transform(dataset)\n",
    "train_size = int(len(dataset) * 0.99)\n",
    "test_size = len(dataset) - train_size\n",
    "train, test = dataset[0:train_size,:], dataset[train_size:len(dataset),:]\n",
    "print(len(train), len(test))\n",
    "\n",
    "def create_dataset(dataset, look_back=look_back):\n",
    "\tdataX, dataY = [], []\n",
    "\tfor i in range(len(dataset)-look_back):\n",
    "\t\ta = dataset[i:(i+look_back), 0]\n",
    "\t\tdataX.append(a)\n",
    "\t\tdataY.append(dataset[i + look_back, 0])\n",
    "\treturn np.array(dataX), np.array(dataY)\n",
    "\n",
    "trainX, trainY = create_dataset(train, look_back)\n",
    "testX, testY = create_dataset(test, look_back)\n",
    "trainX\n",
    "\n",
    "trainY = trainY.reshape(len(trainY), 1)\n",
    "testY = testY.reshape(len(testY), 1)\n",
    "trainY\n",
    "\n",
    "X0=trainX\n",
    "Y0=trainY\n",
    "\n"
   ]
  },
  {
   "cell_type": "code",
   "execution_count": null,
   "metadata": {},
   "outputs": [],
   "source": []
  },
  {
   "cell_type": "code",
   "execution_count": null,
   "metadata": {},
   "outputs": [],
   "source": []
  },
  {
   "cell_type": "code",
   "execution_count": 36,
   "metadata": {},
   "outputs": [
    {
     "name": "stderr",
     "output_type": "stream",
     "text": [
      "/home/rubensvectomobile_gmail_com/.local/lib/python3.5/site-packages/tensorflow/python/client/session.py:1735: UserWarning: An interactive session is already active. This can cause out-of-memory errors in some cases. You must explicitly call `InteractiveSession.close()` to release resources held by the other session(s).\n",
      "  warnings.warn('An interactive session is already active. This can '\n"
     ]
    }
   ],
   "source": [
    "from tensorflow.compat.v1 import ConfigProto\n",
    "from tensorflow.compat.v1 import InteractiveSession\n",
    "\n",
    "config = ConfigProto()\n",
    "config.gpu_options.allow_growth = True\n",
    "session = InteractiveSession(config=config)"
   ]
  },
  {
   "cell_type": "code",
   "execution_count": 37,
   "metadata": {},
   "outputs": [
    {
     "name": "stdout",
     "output_type": "stream",
     "text": [
      "Tensor(\"dense/BiasAdd:0\", shape=(?, 4, 1), dtype=float32)\n",
      "All parameters: 328200.0\n",
      "Trainable parameters: 109446\n"
     ]
    }
   ],
   "source": [
    "tfd = tfp.distributions\n",
    "\n",
    "class TemporalConvNet(tf.layers.Layer):\n",
    "    def __init__(self, num_channels, kernel_size=2, dropout=0.2,\n",
    "                 trainable=True, name=None, dtype=None, \n",
    "                 activity_regularizer=None, **kwargs):\n",
    "        super(TemporalConvNet, self).__init__(\n",
    "            trainable=trainable, dtype=dtype,\n",
    "            activity_regularizer=activity_regularizer,\n",
    "            name=name, **kwargs\n",
    "        )\n",
    "        self.layers = []\n",
    "        num_levels = len(num_channels)\n",
    "        for i in range(num_levels):\n",
    "            dilation_size = 2 ** i\n",
    "            out_channels = num_channels[i]\n",
    "            self.layers.append(\n",
    "                TemporalBlock(out_channels, kernel_size, strides=1, dilation_rate=dilation_size,\n",
    "                              dropout=dropout, name=\"tblock_{}\".format(i))\n",
    "            )\n",
    "    \n",
    "    def call(self, inputs, training=True):\n",
    "        outputs = inputs\n",
    "        for layer in self.layers:\n",
    "            outputs = layer(outputs, training=training)\n",
    "        return outputs\n",
    "\n",
    "learning_rate = 0.001\n",
    "display_step = 10\n",
    "num_input = 1\n",
    "num_hidden = 35\n",
    "num_classes = 1\n",
    "\n",
    "dropout = 0\n",
    "kernel_size = 8\n",
    "levels = 6\n",
    "\n",
    "class CausalConv1D(tf.layers.Conv1D):\n",
    "    def __init__(self, filters,\n",
    "               kernel_size,\n",
    "               strides=1,\n",
    "               dilation_rate=1,\n",
    "               activation=None,\n",
    "               use_bias=True,\n",
    "               kernel_initializer=None,\n",
    "               bias_initializer=tf.zeros_initializer(),\n",
    "               kernel_regularizer=None,\n",
    "               bias_regularizer=None,\n",
    "               activity_regularizer=None,\n",
    "               kernel_constraint=None,\n",
    "               bias_constraint=None,\n",
    "               trainable=True,\n",
    "               name=None,\n",
    "               **kwargs):\n",
    "        super(CausalConv1D, self).__init__(\n",
    "            filters=filters,\n",
    "            kernel_size=kernel_size,\n",
    "            strides=strides,\n",
    "            padding='valid',\n",
    "            data_format='channels_last',\n",
    "            dilation_rate=dilation_rate,\n",
    "            activation=activation,\n",
    "            use_bias=use_bias,\n",
    "            kernel_initializer=kernel_initializer,\n",
    "            bias_initializer=bias_initializer,\n",
    "            kernel_regularizer=kernel_regularizer,\n",
    "            bias_regularizer=bias_regularizer,\n",
    "            activity_regularizer=activity_regularizer,\n",
    "            kernel_constraint=kernel_constraint,\n",
    "            bias_constraint=bias_constraint,\n",
    "            trainable=trainable,\n",
    "            name=name, **kwargs\n",
    "        )\n",
    "       \n",
    "    def call(self, inputs):\n",
    "        padding = (self.kernel_size[0] - 1) * self.dilation_rate[0]\n",
    "        inputs = tf.pad(inputs, tf.constant([(0, 0,), (1, 0), (0, 0)]) * padding)\n",
    "        return super(CausalConv1D, self).call(inputs)\n",
    "\n",
    "\n",
    "\n",
    "class TemporalBlock(tf.layers.Layer):\n",
    "    def __init__(self, n_outputs, kernel_size, strides, dilation_rate, dropout=0.1, \n",
    "                 trainable=True, name=None, dtype=None, \n",
    "                 activity_regularizer=None, **kwargs):\n",
    "        super(TemporalBlock, self).__init__(\n",
    "            trainable=trainable, dtype=dtype,\n",
    "            activity_regularizer=activity_regularizer,\n",
    "            name=name, **kwargs\n",
    "        )        \n",
    "        self.dropout = dropout\n",
    "        self.n_outputs = n_outputs\n",
    "        self.conv1 = CausalConv1D(\n",
    "            n_outputs, kernel_size, strides=strides, \n",
    "            dilation_rate=dilation_rate, activation=tf.nn.relu, \n",
    "            name=\"conv1\")\n",
    "        self.conv2 = CausalConv1D(\n",
    "            n_outputs, kernel_size, strides=strides, \n",
    "            dilation_rate=dilation_rate, activation=tf.nn.relu, \n",
    "            name=\"conv2\")\n",
    "        self.down_sample = None\n",
    "\n",
    "    \n",
    "    def build(self, input_shape):\n",
    "        channel_dim = 2\n",
    "        self.dropout1 = tf.layers.Dropout(self.dropout, [tf.constant(1), tf.constant(1), tf.constant(self.n_outputs)])\n",
    "        self.dropout2 = tf.layers.Dropout(self.dropout, [tf.constant(1), tf.constant(1), tf.constant(self.n_outputs)])\n",
    "        if input_shape[channel_dim] != self.n_outputs:\n",
    "            self.down_sample = tf.layers.Dense(self.n_outputs, activation=None)\n",
    "    \n",
    "    def call(self, inputs, training=True):\n",
    "        x = self.conv1(inputs)\n",
    "        x = tf.contrib.layers.layer_norm(x)\n",
    "        x = self.dropout1(x, training=training)\n",
    "        x = self.conv2(x)\n",
    "        x = tf.contrib.layers.layer_norm(x)\n",
    "        x = self.dropout2(x, training=training)\n",
    "        #x = tfp.layers.DistributionLambda(make_distribution_fn=lambda t: tfd.Normal(loc=t, scale=1))(x)\n",
    "        #x = tf.contrib.layers.layer_norm(x)\n",
    "        #x = tf.layers.dense(inputs=x,units=3)\n",
    "        if self.down_sample is not None:\n",
    "          inputs = self.down_sample(inputs)\n",
    "        return tf.nn.relu(x)\n",
    "\n",
    "\n",
    "\n",
    "tf.reset_default_graph()\n",
    "graph = tf.Graph()\n",
    "with graph.as_default():\n",
    "    tf.set_random_seed(2)\n",
    "    \n",
    "    X = tf.placeholder(\"float\", [None, look_back,1])\n",
    "    Y = tf.placeholder(\"float\", [None, num_classes])\n",
    "    is_training = tf.placeholder(\"bool\")\n",
    "    \n",
    "    logits = tf.layers.dense(\n",
    "        TemporalConvNet([num_hidden] * levels, kernel_size, dropout)(\n",
    "            X, training=is_training),\n",
    "        num_classes, activation=None, \n",
    "        kernel_initializer=tf.glorot_uniform_initializer()\n",
    "    )\n",
    "    print(logits)\n",
    "\n",
    "    mm,_=tf.nn.moments(tf.reshape(tf.nn.relu(logits),[-1,look_back]),axes=[1])\n",
    "    prediction=tf.nn.relu(logits)\n",
    "    \n",
    "    prediction2 = tf.reshape(tf.cast(mm,tf.float32),[-1,1])\n",
    "    \n",
    "    loss_op = tf.reduce_mean(tf.losses.mean_squared_error(\n",
    "        labels=Y,predictions=prediction2))\n",
    "    \n",
    "    accuracy=1-tf.sqrt(loss_op)\n",
    "\n",
    "    optimizer = tf.train.AdamOptimizer(learning_rate=0.001)\n",
    "    train_op = optimizer.minimize(loss_op)\n",
    "\n",
    "\n",
    "    saver = tf.train.Saver()\n",
    "    print(\"All parameters:\", np.sum([np.product([xi.value for xi in x.get_shape()]) for x in tf.global_variables()]))\n",
    "    print(\"Trainable parameters:\", np.sum([np.product([xi.value for xi in x.get_shape()]) for x in tf.trainable_variables()]))\n",
    "\n",
    "def next_batch(num, data, labels):\n",
    "    idx = np.arange(0 , len(data))\n",
    "    np.random.shuffle(idx)\n",
    "    idx = idx[:num]\n",
    "    data_shuffle = [data[ i] for i in idx]\n",
    "    labels_shuffle = [labels[ i] for i in idx]\n",
    "    return np.asarray(data_shuffle).astype(np.float32), np.asarray(labels_shuffle).astype(np.float32)\n",
    "\n",
    "log_dir = \"/home/rubensvectomobile/BOVESPA/\"\n",
    "tb_writer = tf.summary.FileWriter(log_dir, graph)\n",
    "config = tf.ConfigProto()\n",
    "config.gpu_options.allow_growth = False\n",
    "config.gpu_options.per_process_gpu_memory_fraction = 0.7\n",
    "best_val_acc = 0.82\n",
    "\n",
    "training_epochs = 2000\n",
    "batch_size = X0.shape[0]\n",
    "\n",
    "\n",
    "X0=X0.reshape(-1,look_back,1)\n",
    "testX=testX.reshape(-1,look_back,1)\n"
   ]
  },
  {
   "cell_type": "code",
   "execution_count": 40,
   "metadata": {},
   "outputs": [
    {
     "name": "stdout",
     "output_type": "stream",
     "text": [
      "Step 1, Minibatch Loss= 0.0468, Training Accuracy= 0.7836, Test Accuracy= 0.1823\n",
      "Step 10, Minibatch Loss= 0.0048, Training Accuracy= 0.9305, Test Accuracy= 0.6245\n",
      "Step 20, Minibatch Loss= 0.0007, Training Accuracy= 0.9732, Test Accuracy= 0.8352\n",
      "Step 30, Minibatch Loss= 0.0006, Training Accuracy= 0.9755, Test Accuracy= 0.8132\n",
      "Step 40, Minibatch Loss= 0.0003, Training Accuracy= 0.9827, Test Accuracy= 0.8994\n",
      "Step 50, Minibatch Loss= 0.0002, Training Accuracy= 0.9853, Test Accuracy= 0.8761\n",
      "Step 60, Minibatch Loss= 0.0002, Training Accuracy= 0.9864, Test Accuracy= 0.8829\n",
      "Step 70, Minibatch Loss= 0.0002, Training Accuracy= 0.9872, Test Accuracy= 0.8862\n",
      "Step 80, Minibatch Loss= 0.0001, Training Accuracy= 0.9879, Test Accuracy= 0.8949\n",
      "Step 90, Minibatch Loss= 0.0001, Training Accuracy= 0.9883, Test Accuracy= 0.8971\n",
      "Step 100, Minibatch Loss= 0.0001, Training Accuracy= 0.9888, Test Accuracy= 0.9050\n",
      "Step 110, Minibatch Loss= 0.0001, Training Accuracy= 0.9892, Test Accuracy= 0.9062\n",
      "Step 120, Minibatch Loss= 0.0001, Training Accuracy= 0.9896, Test Accuracy= 0.9042\n",
      "Step 130, Minibatch Loss= 0.0002, Training Accuracy= 0.9846, Test Accuracy= 0.8782\n",
      "Step 140, Minibatch Loss= 0.0004, Training Accuracy= 0.9812, Test Accuracy= 0.8771\n",
      "Step 150, Minibatch Loss= 0.0005, Training Accuracy= 0.9779, Test Accuracy= 0.8243\n",
      "Step 160, Minibatch Loss= 0.0003, Training Accuracy= 0.9825, Test Accuracy= 0.9323\n",
      "Step 170, Minibatch Loss= 0.0002, Training Accuracy= 0.9869, Test Accuracy= 0.8847\n",
      "Step 180, Minibatch Loss= 0.0001, Training Accuracy= 0.9889, Test Accuracy= 0.9353\n",
      "Step 190, Minibatch Loss= 0.0001, Training Accuracy= 0.9903, Test Accuracy= 0.9333\n",
      "Step 200, Minibatch Loss= 0.0001, Training Accuracy= 0.9904, Test Accuracy= 0.9349\n",
      "Step 210, Minibatch Loss= 0.0001, Training Accuracy= 0.9906, Test Accuracy= 0.9404\n",
      "Step 220, Minibatch Loss= 0.0001, Training Accuracy= 0.9907, Test Accuracy= 0.9441\n",
      "Step 230, Minibatch Loss= 0.0001, Training Accuracy= 0.9909, Test Accuracy= 0.9462\n",
      "Step 240, Minibatch Loss= 0.0001, Training Accuracy= 0.9910, Test Accuracy= 0.9460\n",
      "Step 250, Minibatch Loss= 0.0001, Training Accuracy= 0.9911, Test Accuracy= 0.9486\n",
      "Step 260, Minibatch Loss= 0.0001, Training Accuracy= 0.9912, Test Accuracy= 0.9496\n",
      "Step 270, Minibatch Loss= 0.0001, Training Accuracy= 0.9913, Test Accuracy= 0.9511\n",
      "Step 280, Minibatch Loss= 0.0001, Training Accuracy= 0.9914, Test Accuracy= 0.9518\n",
      "Step 290, Minibatch Loss= 0.0001, Training Accuracy= 0.9915, Test Accuracy= 0.9526\n",
      "Step 300, Minibatch Loss= 0.0001, Training Accuracy= 0.9916, Test Accuracy= 0.9536\n",
      "Step 310, Minibatch Loss= 0.0001, Training Accuracy= 0.9917, Test Accuracy= 0.9539\n",
      "Step 320, Minibatch Loss= 0.0001, Training Accuracy= 0.9917, Test Accuracy= 0.9545\n",
      "Step 330, Minibatch Loss= 0.0001, Training Accuracy= 0.9918, Test Accuracy= 0.9565\n",
      "Step 340, Minibatch Loss= 0.0001, Training Accuracy= 0.9889, Test Accuracy= 0.9734\n",
      "Step 350, Minibatch Loss= 0.0001, Training Accuracy= 0.9904, Test Accuracy= 0.9317\n",
      "Step 360, Minibatch Loss= 0.0001, Training Accuracy= 0.9917, Test Accuracy= 0.9454\n",
      "Step 370, Minibatch Loss= 0.0001, Training Accuracy= 0.9919, Test Accuracy= 0.9595\n",
      "Step 380, Minibatch Loss= 0.0002, Training Accuracy= 0.9866, Test Accuracy= 0.9772\n",
      "Step 390, Minibatch Loss= 0.0001, Training Accuracy= 0.9901, Test Accuracy= 0.9656\n",
      "Step 400, Minibatch Loss= 0.0001, Training Accuracy= 0.9914, Test Accuracy= 0.9434\n",
      "Step 410, Minibatch Loss= 0.0001, Training Accuracy= 0.9915, Test Accuracy= 0.9669\n",
      "Step 420, Minibatch Loss= 0.0001, Training Accuracy= 0.9889, Test Accuracy= 0.9754\n",
      "Step 430, Minibatch Loss= 0.0001, Training Accuracy= 0.9898, Test Accuracy= 0.9314\n",
      "Step 440, Minibatch Loss= 0.0001, Training Accuracy= 0.9888, Test Accuracy= 0.9738\n",
      "Step 450, Minibatch Loss= 0.0001, Training Accuracy= 0.9913, Test Accuracy= 0.9425\n",
      "Step 460, Minibatch Loss= 0.0001, Training Accuracy= 0.9910, Test Accuracy= 0.9640\n",
      "Step 470, Minibatch Loss= 0.0001, Training Accuracy= 0.9902, Test Accuracy= 0.9747\n",
      "Step 480, Minibatch Loss= 0.0001, Training Accuracy= 0.9878, Test Accuracy= 0.9159\n",
      "Step 490, Minibatch Loss= 0.0001, Training Accuracy= 0.9892, Test Accuracy= 0.9283\n",
      "Step 500, Minibatch Loss= 0.0001, Training Accuracy= 0.9918, Test Accuracy= 0.9539\n",
      "Step 510, Minibatch Loss= 0.0001, Training Accuracy= 0.9913, Test Accuracy= 0.9681\n",
      "Step 520, Minibatch Loss= 0.0001, Training Accuracy= 0.9904, Test Accuracy= 0.9405\n",
      "Step 530, Minibatch Loss= 0.0001, Training Accuracy= 0.9897, Test Accuracy= 0.9721\n",
      "Step 540, Minibatch Loss= 0.0001, Training Accuracy= 0.9890, Test Accuracy= 0.9269\n",
      "Step 550, Minibatch Loss= 0.0001, Training Accuracy= 0.9904, Test Accuracy= 0.9703\n",
      "Step 560, Minibatch Loss= 0.0001, Training Accuracy= 0.9923, Test Accuracy= 0.9563\n",
      "Step 570, Minibatch Loss= 0.0002, Training Accuracy= 0.9857, Test Accuracy= 0.9063\n",
      "Step 580, Minibatch Loss= 0.0001, Training Accuracy= 0.9899, Test Accuracy= 0.9299\n",
      "Step 590, Minibatch Loss= 0.0001, Training Accuracy= 0.9901, Test Accuracy= 0.9717\n",
      "Step 600, Minibatch Loss= 0.0002, Training Accuracy= 0.9874, Test Accuracy= 0.9178\n",
      "Step 610, Minibatch Loss= 0.0001, Training Accuracy= 0.9921, Test Accuracy= 0.9440\n",
      "Step 620, Minibatch Loss= 0.0001, Training Accuracy= 0.9890, Test Accuracy= 0.9742\n",
      "Step 630, Minibatch Loss= 0.0001, Training Accuracy= 0.9899, Test Accuracy= 0.9271\n",
      "Step 640, Minibatch Loss= 0.0001, Training Accuracy= 0.9920, Test Accuracy= 0.9428\n",
      "Step 650, Minibatch Loss= 0.0001, Training Accuracy= 0.9917, Test Accuracy= 0.9655\n",
      "Step 660, Minibatch Loss= 0.0001, Training Accuracy= 0.9920, Test Accuracy= 0.9494\n",
      "Step 670, Minibatch Loss= 0.0001, Training Accuracy= 0.9897, Test Accuracy= 0.9268\n",
      "Step 680, Minibatch Loss= 0.0001, Training Accuracy= 0.9883, Test Accuracy= 0.9747\n",
      "Step 690, Minibatch Loss= 0.0001, Training Accuracy= 0.9895, Test Accuracy= 0.9300\n",
      "Step 700, Minibatch Loss= 0.0001, Training Accuracy= 0.9912, Test Accuracy= 0.9655\n",
      "Step 710, Minibatch Loss= 0.0001, Training Accuracy= 0.9924, Test Accuracy= 0.9584\n",
      "Step 720, Minibatch Loss= 0.0002, Training Accuracy= 0.9861, Test Accuracy= 0.9165\n",
      "Step 730, Minibatch Loss= 0.0001, Training Accuracy= 0.9917, Test Accuracy= 0.9227\n",
      "Step 740, Minibatch Loss= 0.0001, Training Accuracy= 0.9916, Test Accuracy= 0.9260\n",
      "Step 750, Minibatch Loss= 0.0001, Training Accuracy= 0.9909, Test Accuracy= 0.9374\n",
      "Step 760, Minibatch Loss= 0.0001, Training Accuracy= 0.9921, Test Accuracy= 0.9533\n",
      "Step 770, Minibatch Loss= 0.0001, Training Accuracy= 0.9907, Test Accuracy= 0.9639\n",
      "Step 780, Minibatch Loss= 0.0001, Training Accuracy= 0.9913, Test Accuracy= 0.9686\n",
      "Step 790, Minibatch Loss= 0.0001, Training Accuracy= 0.9922, Test Accuracy= 0.9516\n",
      "Step 800, Minibatch Loss= 0.0001, Training Accuracy= 0.9893, Test Accuracy= 0.9291\n",
      "Step 810, Minibatch Loss= 0.0001, Training Accuracy= 0.9893, Test Accuracy= 0.9749\n",
      "Step 820, Minibatch Loss= 0.0001, Training Accuracy= 0.9915, Test Accuracy= 0.9440\n",
      "Step 830, Minibatch Loss= 0.0001, Training Accuracy= 0.9910, Test Accuracy= 0.9743\n",
      "Step 840, Minibatch Loss= 0.0001, Training Accuracy= 0.9893, Test Accuracy= 0.9310\n",
      "Step 850, Minibatch Loss= 0.0001, Training Accuracy= 0.9896, Test Accuracy= 0.9702\n",
      "Step 860, Minibatch Loss= 0.0001, Training Accuracy= 0.9896, Test Accuracy= 0.9776\n",
      "Step 870, Minibatch Loss= 0.0001, Training Accuracy= 0.9923, Test Accuracy= 0.9471\n",
      "Step 880, Minibatch Loss= 0.0001, Training Accuracy= 0.9913, Test Accuracy= 0.9435\n",
      "Step 890, Minibatch Loss= 0.0001, Training Accuracy= 0.9916, Test Accuracy= 0.9525\n",
      "Step 900, Minibatch Loss= 0.0001, Training Accuracy= 0.9891, Test Accuracy= 0.9775\n",
      "Step 910, Minibatch Loss= 0.0001, Training Accuracy= 0.9918, Test Accuracy= 0.9637\n",
      "Step 920, Minibatch Loss= 0.0001, Training Accuracy= 0.9909, Test Accuracy= 0.9458\n",
      "Step 930, Minibatch Loss= 0.0001, Training Accuracy= 0.9920, Test Accuracy= 0.9697\n",
      "Step 940, Minibatch Loss= 0.0001, Training Accuracy= 0.9921, Test Accuracy= 0.9566\n",
      "Step 950, Minibatch Loss= 0.0001, Training Accuracy= 0.9917, Test Accuracy= 0.9757\n",
      "Step 960, Minibatch Loss= 0.0001, Training Accuracy= 0.9907, Test Accuracy= 0.9750\n",
      "Step 970, Minibatch Loss= 0.0001, Training Accuracy= 0.9909, Test Accuracy= 0.9452\n",
      "Step 980, Minibatch Loss= 0.0001, Training Accuracy= 0.9925, Test Accuracy= 0.9534\n"
     ]
    },
    {
     "name": "stdout",
     "output_type": "stream",
     "text": [
      "Step 990, Minibatch Loss= 0.0001, Training Accuracy= 0.9918, Test Accuracy= 0.9701\n",
      "Step 1000, Minibatch Loss= 0.0002, Training Accuracy= 0.9876, Test Accuracy= 0.9259\n",
      "Step 1010, Minibatch Loss= 0.0001, Training Accuracy= 0.9888, Test Accuracy= 0.9733\n",
      "Step 1020, Minibatch Loss= 0.0001, Training Accuracy= 0.9920, Test Accuracy= 0.9642\n",
      "Step 1030, Minibatch Loss= 0.0002, Training Accuracy= 0.9853, Test Accuracy= 0.9065\n",
      "Step 1040, Minibatch Loss= 0.0001, Training Accuracy= 0.9900, Test Accuracy= 0.9262\n",
      "Step 1050, Minibatch Loss= 0.0001, Training Accuracy= 0.9910, Test Accuracy= 0.9495\n",
      "Step 1060, Minibatch Loss= 0.0001, Training Accuracy= 0.9902, Test Accuracy= 0.9741\n",
      "Step 1070, Minibatch Loss= 0.0001, Training Accuracy= 0.9914, Test Accuracy= 0.9743\n",
      "Step 1080, Minibatch Loss= 0.0001, Training Accuracy= 0.9907, Test Accuracy= 0.9437\n",
      "Step 1090, Minibatch Loss= 0.0001, Training Accuracy= 0.9916, Test Accuracy= 0.9733\n",
      "Step 1100, Minibatch Loss= 0.0001, Training Accuracy= 0.9922, Test Accuracy= 0.9576\n",
      "Step 1110, Minibatch Loss= 0.0001, Training Accuracy= 0.9920, Test Accuracy= 0.9755\n",
      "Step 1120, Minibatch Loss= 0.0001, Training Accuracy= 0.9922, Test Accuracy= 0.9407\n",
      "Step 1130, Minibatch Loss= 0.0001, Training Accuracy= 0.9908, Test Accuracy= 0.9281\n",
      "Step 1140, Minibatch Loss= 0.0001, Training Accuracy= 0.9917, Test Accuracy= 0.9333\n",
      "Step 1150, Minibatch Loss= 0.0001, Training Accuracy= 0.9925, Test Accuracy= 0.9628\n",
      "Step 1160, Minibatch Loss= 0.0001, Training Accuracy= 0.9924, Test Accuracy= 0.9718\n",
      "Step 1170, Minibatch Loss= 0.0001, Training Accuracy= 0.9914, Test Accuracy= 0.9732\n",
      "Step 1180, Minibatch Loss= 0.0001, Training Accuracy= 0.9925, Test Accuracy= 0.9583\n",
      "Step 1190, Minibatch Loss= 0.0001, Training Accuracy= 0.9882, Test Accuracy= 0.9825\n",
      "Model saved in path: /home/rubensvectomobile/BOVESPA/model.ckpt\n",
      "Step 1200, Minibatch Loss= 0.0001, Training Accuracy= 0.9920, Test Accuracy= 0.9365\n",
      "Step 1210, Minibatch Loss= 0.0001, Training Accuracy= 0.9903, Test Accuracy= 0.9366\n",
      "Step 1220, Minibatch Loss= 0.0001, Training Accuracy= 0.9926, Test Accuracy= 0.9617\n",
      "Step 1230, Minibatch Loss= 0.0001, Training Accuracy= 0.9926, Test Accuracy= 0.9626\n",
      "Step 1240, Minibatch Loss= 0.0001, Training Accuracy= 0.9910, Test Accuracy= 0.9779\n",
      "Step 1250, Minibatch Loss= 0.0001, Training Accuracy= 0.9927, Test Accuracy= 0.9655\n",
      "Step 1260, Minibatch Loss= 0.0003, Training Accuracy= 0.9839, Test Accuracy= 0.9026\n",
      "Step 1270, Minibatch Loss= 0.0001, Training Accuracy= 0.9909, Test Accuracy= 0.9270\n",
      "Step 1280, Minibatch Loss= 0.0001, Training Accuracy= 0.9923, Test Accuracy= 0.9503\n",
      "Step 1290, Minibatch Loss= 0.0001, Training Accuracy= 0.9913, Test Accuracy= 0.9744\n",
      "Step 1300, Minibatch Loss= 0.0001, Training Accuracy= 0.9919, Test Accuracy= 0.9542\n",
      "Step 1310, Minibatch Loss= 0.0001, Training Accuracy= 0.9921, Test Accuracy= 0.9750\n",
      "Step 1320, Minibatch Loss= 0.0001, Training Accuracy= 0.9923, Test Accuracy= 0.9752\n",
      "Step 1330, Minibatch Loss= 0.0001, Training Accuracy= 0.9909, Test Accuracy= 0.9695\n",
      "Step 1340, Minibatch Loss= 0.0001, Training Accuracy= 0.9899, Test Accuracy= 0.9791\n",
      "Step 1350, Minibatch Loss= 0.0001, Training Accuracy= 0.9918, Test Accuracy= 0.9404\n",
      "Step 1360, Minibatch Loss= 0.0002, Training Accuracy= 0.9860, Test Accuracy= 0.9166\n",
      "Step 1370, Minibatch Loss= 0.0001, Training Accuracy= 0.9907, Test Accuracy= 0.9301\n",
      "Step 1380, Minibatch Loss= 0.0001, Training Accuracy= 0.9913, Test Accuracy= 0.9518\n",
      "Step 1390, Minibatch Loss= 0.0001, Training Accuracy= 0.9894, Test Accuracy= 0.9757\n",
      "Step 1400, Minibatch Loss= 0.0001, Training Accuracy= 0.9899, Test Accuracy= 0.9821\n",
      "Step 1410, Minibatch Loss= 0.0001, Training Accuracy= 0.9926, Test Accuracy= 0.9597\n",
      "Step 1420, Minibatch Loss= 0.0001, Training Accuracy= 0.9924, Test Accuracy= 0.9629\n",
      "Step 1430, Minibatch Loss= 0.0001, Training Accuracy= 0.9919, Test Accuracy= 0.9535\n",
      "Step 1440, Minibatch Loss= 0.0001, Training Accuracy= 0.9928, Test Accuracy= 0.9669\n",
      "Step 1450, Minibatch Loss= 0.0001, Training Accuracy= 0.9917, Test Accuracy= 0.9792\n",
      "Step 1460, Minibatch Loss= 0.0001, Training Accuracy= 0.9889, Test Accuracy= 0.9248\n",
      "Step 1470, Minibatch Loss= 0.0001, Training Accuracy= 0.9921, Test Accuracy= 0.9373\n",
      "Step 1480, Minibatch Loss= 0.0001, Training Accuracy= 0.9915, Test Accuracy= 0.9784\n",
      "Step 1490, Minibatch Loss= 0.0001, Training Accuracy= 0.9910, Test Accuracy= 0.9449\n",
      "Step 1500, Minibatch Loss= 0.0001, Training Accuracy= 0.9920, Test Accuracy= 0.9788\n",
      "Step 1510, Minibatch Loss= 0.0001, Training Accuracy= 0.9927, Test Accuracy= 0.9687\n",
      "Step 1520, Minibatch Loss= 0.0001, Training Accuracy= 0.9886, Test Accuracy= 0.9324\n",
      "Step 1530, Minibatch Loss= 0.0001, Training Accuracy= 0.9903, Test Accuracy= 0.9632\n",
      "Step 1540, Minibatch Loss= 0.0001, Training Accuracy= 0.9892, Test Accuracy= 0.9834\n",
      "Model saved in path: /home/rubensvectomobile/BOVESPA/model.ckpt\n",
      "Step 1550, Minibatch Loss= 0.0001, Training Accuracy= 0.9924, Test Accuracy= 0.9649\n",
      "Step 1560, Minibatch Loss= 0.0001, Training Accuracy= 0.9902, Test Accuracy= 0.9426\n",
      "Step 1570, Minibatch Loss= 0.0001, Training Accuracy= 0.9918, Test Accuracy= 0.9685\n",
      "Step 1580, Minibatch Loss= 0.0001, Training Accuracy= 0.9884, Test Accuracy= 0.9832\n",
      "Step 1590, Minibatch Loss= 0.0001, Training Accuracy= 0.9903, Test Accuracy= 0.9684\n",
      "Step 1600, Minibatch Loss= 0.0001, Training Accuracy= 0.9921, Test Accuracy= 0.9770\n",
      "Step 1610, Minibatch Loss= 0.0001, Training Accuracy= 0.9901, Test Accuracy= 0.9388\n",
      "Step 1620, Minibatch Loss= 0.0001, Training Accuracy= 0.9924, Test Accuracy= 0.9757\n",
      "Step 1630, Minibatch Loss= 0.0001, Training Accuracy= 0.9920, Test Accuracy= 0.9570\n",
      "Step 1640, Minibatch Loss= 0.0001, Training Accuracy= 0.9921, Test Accuracy= 0.9555\n",
      "Step 1650, Minibatch Loss= 0.0001, Training Accuracy= 0.9915, Test Accuracy= 0.9827\n",
      "Step 1660, Minibatch Loss= 0.0001, Training Accuracy= 0.9916, Test Accuracy= 0.9440\n",
      "Step 1670, Minibatch Loss= 0.0001, Training Accuracy= 0.9909, Test Accuracy= 0.9730\n",
      "Step 1680, Minibatch Loss= 0.0001, Training Accuracy= 0.9922, Test Accuracy= 0.9755\n",
      "Step 1690, Minibatch Loss= 0.0002, Training Accuracy= 0.9875, Test Accuracy= 0.9123\n",
      "Step 1700, Minibatch Loss= 0.0002, Training Accuracy= 0.9859, Test Accuracy= 0.9171\n",
      "Step 1710, Minibatch Loss= 0.0001, Training Accuracy= 0.9906, Test Accuracy= 0.9298\n",
      "Step 1720, Minibatch Loss= 0.0001, Training Accuracy= 0.9905, Test Accuracy= 0.9490\n",
      "Step 1730, Minibatch Loss= 0.0001, Training Accuracy= 0.9916, Test Accuracy= 0.9613\n",
      "Step 1740, Minibatch Loss= 0.0001, Training Accuracy= 0.9915, Test Accuracy= 0.9794\n",
      "Step 1750, Minibatch Loss= 0.0001, Training Accuracy= 0.9924, Test Accuracy= 0.9762\n",
      "Step 1760, Minibatch Loss= 0.0001, Training Accuracy= 0.9928, Test Accuracy= 0.9729\n",
      "Step 1770, Minibatch Loss= 0.0001, Training Accuracy= 0.9921, Test Accuracy= 0.9595\n",
      "Step 1780, Minibatch Loss= 0.0001, Training Accuracy= 0.9927, Test Accuracy= 0.9636\n",
      "Step 1790, Minibatch Loss= 0.0001, Training Accuracy= 0.9918, Test Accuracy= 0.9495\n",
      "Step 1800, Minibatch Loss= 0.0001, Training Accuracy= 0.9925, Test Accuracy= 0.9771\n",
      "Step 1810, Minibatch Loss= 0.0001, Training Accuracy= 0.9922, Test Accuracy= 0.9476\n",
      "Step 1820, Minibatch Loss= 0.0001, Training Accuracy= 0.9904, Test Accuracy= 0.9653\n",
      "Step 1830, Minibatch Loss= 0.0001, Training Accuracy= 0.9895, Test Accuracy= 0.9827\n",
      "Step 1840, Minibatch Loss= 0.0001, Training Accuracy= 0.9924, Test Accuracy= 0.9624\n",
      "Step 1850, Minibatch Loss= 0.0001, Training Accuracy= 0.9904, Test Accuracy= 0.9377\n",
      "Step 1860, Minibatch Loss= 0.0001, Training Accuracy= 0.9920, Test Accuracy= 0.9551\n",
      "Step 1870, Minibatch Loss= 0.0001, Training Accuracy= 0.9893, Test Accuracy= 0.9779\n",
      "Step 1880, Minibatch Loss= 0.0001, Training Accuracy= 0.9885, Test Accuracy= 0.9827\n",
      "Step 1890, Minibatch Loss= 0.0001, Training Accuracy= 0.9910, Test Accuracy= 0.9722\n",
      "Step 1900, Minibatch Loss= 0.0001, Training Accuracy= 0.9927, Test Accuracy= 0.9738\n",
      "Step 1910, Minibatch Loss= 0.0001, Training Accuracy= 0.9927, Test Accuracy= 0.9718\n",
      "Step 1920, Minibatch Loss= 0.0001, Training Accuracy= 0.9925, Test Accuracy= 0.9638\n",
      "Step 1930, Minibatch Loss= 0.0001, Training Accuracy= 0.9920, Test Accuracy= 0.9574\n",
      "Step 1940, Minibatch Loss= 0.0001, Training Accuracy= 0.9926, Test Accuracy= 0.9596\n",
      "Step 1950, Minibatch Loss= 0.0001, Training Accuracy= 0.9904, Test Accuracy= 0.9830\n"
     ]
    },
    {
     "name": "stdout",
     "output_type": "stream",
     "text": [
      "Step 1960, Minibatch Loss= 0.0001, Training Accuracy= 0.9916, Test Accuracy= 0.9504\n",
      "Step 1970, Minibatch Loss= 0.0001, Training Accuracy= 0.9925, Test Accuracy= 0.9740\n",
      "Step 1980, Minibatch Loss= 0.0001, Training Accuracy= 0.9923, Test Accuracy= 0.9650\n",
      "Step 1990, Minibatch Loss= 0.0001, Training Accuracy= 0.9907, Test Accuracy= 0.9806\n",
      "Step 2000, Minibatch Loss= 0.0001, Training Accuracy= 0.9904, Test Accuracy= 0.9397\n"
     ]
    }
   ],
   "source": [
    "\n",
    "with tf.Session(graph=graph, config=config) as sess:\n",
    "    init = tf.group(tf.global_variables_initializer(), tf.local_variables_initializer())\n",
    "    sess.run(init)\n",
    "    for step in range(1, training_epochs+1):\n",
    "        Xt, Yt = next_batch(batch_size, X0, Y0)\n",
    "        batch_x, batch_y = Xt,Yt\n",
    "        sess.run(train_op, feed_dict={X: batch_x, Y: batch_y, is_training: True})\n",
    "        if step % display_step == 0 or step == 1:\n",
    "            loss, acc = sess.run([loss_op, accuracy], feed_dict={\n",
    "                X: batch_x, Y: batch_y, is_training: False})\n",
    "            test_data = testX\n",
    "            test_label = testY\n",
    "            val_acc = sess.run(accuracy, feed_dict={X: test_data, Y: test_label, is_training: False})\n",
    "            print(\"Step \" + str(step) + \", Minibatch Loss= \" + \\\n",
    "                  \"{:.4f}\".format(loss) + \", Training Accuracy= \" + \\\n",
    "                  \"{:.4f}\".format(acc) + \", Test Accuracy= \" + \\\n",
    "                  \"{:.4f}\".format(val_acc))\n",
    "            if val_acc > best_val_acc:\n",
    "                best_val_acc = val_acc\n",
    "                save_path = saver.save(sess, \"/home/rubensvectomobile/BOVESPA/model.ckpt\")\n",
    "                print(\"Model saved in path: %s\" % save_path)\n",
    "    pred00 = sess.run([prediction], feed_dict={X: test_data, is_training: False})\n",
    "    pred01 = sess.run([prediction2], feed_dict={X: test_data, is_training: False})\n"
   ]
  },
  {
   "cell_type": "code",
   "execution_count": 41,
   "metadata": {},
   "outputs": [],
   "source": [
    "with tf.Session(graph=graph, config=config) as session:\n",
    "    ckpt = \"/home/rubensvectomobile/BOVESPA/model.ckpt\"\n",
    "    saver.restore(session, ckpt)\n",
    "    pred00 = session.run([prediction], feed_dict={X: test_data, is_training: False})\n",
    "    pred01 = session.run([prediction2], feed_dict={X: test_data, is_training: False})\n",
    "\n",
    "\n"
   ]
  },
  {
   "cell_type": "code",
   "execution_count": 42,
   "metadata": {},
   "outputs": [
    {
     "data": {
      "image/png": "[encoded data removed]",
      "text/plain": [
       "<Figure size 432x288 with 1 Axes>"
      ]
     },
     "metadata": {
      "needs_background": "light"
     },
     "output_type": "display_data"
    },
    {
     "data": {
      "image/png": "[encoded data removed]",
      "text/plain": [
       "<Figure size 432x288 with 1 Axes>"
      ]
     },
     "metadata": {
      "needs_background": "light"
     },
     "output_type": "display_data"
    }
   ],
   "source": [
    "import matplotlib.pyplot as plt\n",
    "plt.plot(np.array(pred01).reshape(-1,1))\n",
    "plt.plot(np.array(testY).reshape(-1,),c='black')\n",
    "plt.xlabel('Days')\n",
    "plt.ylabel('Stock Price')\n",
    "plt.show()\n",
    "\n",
    "x=list(range(0,len(pred00[0])))\n",
    "y1=np.array(pred01).reshape(1,-1)[0]+2*np.std(np.array(pred01).reshape(1,-1))\n",
    "y2=np.array(pred01).reshape(1,-1)[0]-2*np.std(np.array(pred01).reshape(1,-1))\n",
    "fig, ax1 = plt.subplots(1, 1, sharex=True)\n",
    "ax1.plot(np.array(pred01).reshape(1,-1)[0],'--',color='blue',alpha=0.5)\n",
    "ax1.fill_between(x, y1, y2,color='blue',alpha=0.3)\n",
    "ax1.plot(x,np.array(testY).reshape(-1,),c='red')\n",
    "plt.xlabel('Days')\n",
    "plt.show()"
   ]
  },
  {
   "cell_type": "code",
   "execution_count": 43,
   "metadata": {},
   "outputs": [
    {
     "name": "stdout",
     "output_type": "stream",
     "text": [
      "R2 0.8844194781268376\n"
     ]
    }
   ],
   "source": [
    "from sklearn.metrics import r2_score\n",
    "print('R2',r2_score(testY.reshape(1,-1)[0],np.array(pred01).reshape(1,-1)[0]))"
   ]
  },
  {
   "cell_type": "code",
   "execution_count": null,
   "metadata": {},
   "outputs": [],
   "source": []
  },
  {
   "cell_type": "code",
   "execution_count": null,
   "metadata": {},
   "outputs": [],
   "source": []
  },
  {
   "cell_type": "code",
   "execution_count": null,
   "metadata": {},
   "outputs": [],
   "source": []
  },
  {
   "cell_type": "code",
   "execution_count": 44,
   "metadata": {},
   "outputs": [],
   "source": [
    "x_test=X0[-1].reshape(-1,4,1)\n",
    "prev=[]\n",
    "with tf.Session(graph=graph, config=config) as session:\n",
    "    ckpt = \"/home/rubensvectomobile/BOVESPA/model.ckpt\"\n",
    "    saver.restore(session, ckpt)\n",
    "    for i in range(0,21):\n",
    "        pred02 = session.run([prediction2], feed_dict={X: x_test, is_training: False})[0][0]\n",
    "        prev.append(pred02)\n",
    "        #print(pred02)\n",
    "        x_test=np.concatenate([x_test[0][1:4],[pred02]],axis=0).reshape(-1,4,1)\n",
    "        #print(x_test)\n",
    "        \n"
   ]
  },
  {
   "cell_type": "code",
   "execution_count": 45,
   "metadata": {},
   "outputs": [],
   "source": [
    "limit=8"
   ]
  },
  {
   "cell_type": "code",
   "execution_count": 46,
   "metadata": {},
   "outputs": [
    {
     "data": {
      "text/plain": [
       "0.91498363"
      ]
     },
     "execution_count": 46,
     "metadata": {},
     "output_type": "execute_result"
    }
   ],
   "source": [
    "np.array(testY)[0:limit].reshape(-1,)[-1]"
   ]
  },
  {
   "cell_type": "code",
   "execution_count": 47,
   "metadata": {},
   "outputs": [
    {
     "data": {
      "image/png": "[encoded data removed]",
      "text/plain": [
       "<Figure size 432x288 with 1 Axes>"
      ]
     },
     "metadata": {
      "needs_background": "light"
     },
     "output_type": "display_data"
    },
    {
     "name": "stdout",
     "output_type": "stream",
     "text": [
      "Variação Real 8.50%\n",
      "Variação Prevista ['8.16%']\n",
      "Erro ['-0.34%']\n"
     ]
    }
   ],
   "source": [
    "plt.plot(np.array(prev)[0:limit].reshape(-1,1))\n",
    "plt.plot(np.array(testY)[0:limit].reshape(-1,),c='black')\n",
    "plt.xlabel('Days')\n",
    "plt.ylabel('Stock Price')\n",
    "plt.show()\n",
    "real=(np.array(testY)[0:limit].reshape(-1,)[-1]/np.array(testY)[0:limit].reshape(-1,)[0]-1)*100\n",
    "prevista=(np.array(prev)[0:limit].reshape(-1,1)[-1]/np.array(prev)[0:limit].reshape(-1,1)[0]-1)*100\n",
    "print('Variação Real',\"%.2f\" % real + '%')\n",
    "print('Variação Prevista',[\"%.2f\" % prevista+'%'])\n",
    "print('Erro',[\"%.2f\" % float((prevista-real))+'%'])"
   ]
  },
  {
   "cell_type": "code",
   "execution_count": null,
   "metadata": {},
   "outputs": [],
   "source": []
  },
  {
   "cell_type": "code",
   "execution_count": null,
   "metadata": {},
   "outputs": [],
   "source": []
  },
  {
   "cell_type": "code",
   "execution_count": null,
   "metadata": {},
   "outputs": [],
   "source": []
  },
  {
   "cell_type": "code",
   "execution_count": null,
   "metadata": {},
   "outputs": [],
   "source": []
  }
 ],
 "metadata": {
  "kernelspec": {
   "display_name": "Python 3",
   "language": "python",
   "name": "python3"
  },
  "language_info": {
   "codemirror_mode": {
    "name": "ipython",
    "version": 3
   },
   "file_extension": ".py",
   "mimetype": "text/x-python",
   "name": "python",
   "nbconvert_exporter": "python",
   "pygments_lexer": "ipython3",
   "version": "3.5.3"
  }
 },
 "nbformat": 4,
 "nbformat_minor": 2
}
