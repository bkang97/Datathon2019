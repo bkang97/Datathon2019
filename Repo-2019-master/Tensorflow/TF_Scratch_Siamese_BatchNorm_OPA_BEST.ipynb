{
 "cells": [
  {
   "cell_type": "code",
   "execution_count": 12,
   "metadata": {},
   "outputs": [],
   "source": [
    "import tensorflow as tf\n",
    "import numpy as np\n",
    "import matplotlib.pyplot as plt\n",
    "import pandas as pd"
   ]
  },
  {
   "cell_type": "code",
   "execution_count": 13,
   "metadata": {},
   "outputs": [
    {
     "data": {
      "text/plain": [
       "(60000, 28, 28)"
      ]
     },
     "execution_count": 13,
     "metadata": {},
     "output_type": "execute_result"
    }
   ],
   "source": [
    "from keras.datasets import mnist\n",
    "\n",
    "(x_train, y_train), (x_test, y_test) = mnist.load_data()\n",
    "\n",
    "x_train.shape"
   ]
  },
  {
   "cell_type": "code",
   "execution_count": 139,
   "metadata": {},
   "outputs": [
    {
     "name": "stderr",
     "output_type": "stream",
     "text": [
      "/home/rubensvectomobile_gmail_com/.local/lib/python3.5/site-packages/tensorflow/python/client/session.py:1735: UserWarning: An interactive session is already active. This can cause out-of-memory errors in some cases. You must explicitly call `InteractiveSession.close()` to release resources held by the other session(s).\n",
      "  warnings.warn('An interactive session is already active. This can '\n"
     ]
    }
   ],
   "source": [
    "from tensorflow.compat.v1 import ConfigProto\n",
    "from tensorflow.compat.v1 import InteractiveSession\n",
    "from tensorflow.contrib.layers.python.layers import batch_norm as batch_norm\n",
    "\n",
    "config = ConfigProto()\n",
    "config.gpu_options.allow_growth = True\n",
    "session = InteractiveSession(config=config)\n",
    "\n",
    "batch_size=5000\n",
    "\n",
    "tf.reset_default_graph()\n",
    "graph = tf.Graph()\n",
    "with graph.as_default():\n",
    "    #tf.set_random_seed(2)\n",
    "    \n",
    "    X = tf.placeholder(dtype=tf.float32)\n",
    "    X2 = tf.placeholder(dtype=tf.float32)\n",
    "    Y = tf.placeholder(dtype=tf.float32)\n",
    "    \n",
    "    num_hidden=256\n",
    "\n",
    "\n",
    "    # Build a hidden layer Left\n",
    "    W_hidden = tf.Variable(tf.random.normal([784, num_hidden]))\n",
    "    b_hidden = tf.Variable(tf.random.normal([num_hidden]))\n",
    "    p_hidden = tf.nn.relu( tf.add(tf.matmul(X, W_hidden), b_hidden) )\n",
    "\n",
    "    W_hidden2 = tf.Variable(tf.random.normal([num_hidden, num_hidden]))\n",
    "    b_hidden2 = tf.Variable(tf.random.normal([num_hidden]))\n",
    "    p_hidden2 = tf.layers.batch_normalization(tf.reshape(tf.add(tf.matmul(p_hidden, W_hidden2), b_hidden2) ,[batch_size,num_hidden]))\n",
    "    p_hidden22 = tf.nn.relu(p_hidden2)\n",
    "\n",
    "    # Build a hidden layer Right\n",
    "    W_hiddenR = tf.Variable(tf.random.normal([784, num_hidden]))\n",
    "    b_hiddenR = tf.Variable(tf.random.normal([num_hidden]))\n",
    "    p_hiddenR = tf.nn.relu( tf.add(tf.matmul(X2, W_hiddenR), b_hiddenR) )\n",
    "\n",
    "    W_hidden2R = tf.Variable(tf.random.normal([num_hidden, num_hidden]))\n",
    "    b_hidden2R = tf.Variable(tf.random.normal([num_hidden]))\n",
    "    p_hidden2R = tf.layers.batch_normalization(tf.reshape(tf.add(tf.matmul(p_hiddenR, W_hidden2R), b_hidden2R),[batch_size,num_hidden]))\n",
    "    p_hidden2R2 = tf.nn.relu(p_hidden2R)\n",
    "\n",
    "    # Conncatenate Left + Right\n",
    "    W_concat = tf.Variable(tf.random.normal([num_hidden,num_hidden]))\n",
    "    b_concat = tf.Variable(tf.random.normal([num_hidden]))\n",
    "    p_concat2 = tf.add(tf.matmul(tf.divide(tf.math.add(p_hidden22,p_hidden2R2),2), W_concat), b_concat)\n",
    "    p_concat3 = tf.layers.batch_normalization(tf.reshape(p_concat2,[batch_size,num_hidden]))\n",
    "    p_concat22=tf.nn.relu(p_concat3)\n",
    "    \n",
    "    # Build the output layer\n",
    "    W_output = tf.Variable(tf.random.normal([num_hidden, 10]))\n",
    "    b_output = tf.Variable(tf.random.normal([10]))\n",
    "    p_output = tf.nn.softmax( tf.add(tf.matmul(p_concat22, W_output), b_output))\n",
    "    \n",
    "    loss = tf.reduce_mean(tf.nn.softmax_cross_entropy_with_logits_v2(labels=Y,logits=p_output))\n",
    "    acc, acc_op = tf.metrics.accuracy(labels=tf.argmax(Y,1), \n",
    "                                      predictions=tf.argmax(p_output,1))\n",
    "    \n",
    "    minimization_op = tf.train.GradientDescentOptimizer(learning_rate=0.1).minimize(loss)\n",
    "    saver = tf.train.Saver()\n",
    "    \n",
    "    limit=10000\n",
    "    \n",
    "    def norm(x):\n",
    "        return (x-np.min(x))/(np.max(x)-np.min(x))\n",
    "\n",
    "    feed_dict = {\n",
    "        X: norm(x_train.reshape(-1,784)),\n",
    "        X2: norm(x_train.reshape(-1,784)),\n",
    "        Y: pd.get_dummies(y_train)\n",
    "    }"
   ]
  },
  {
   "cell_type": "code",
   "execution_count": null,
   "metadata": {},
   "outputs": [],
   "source": [
    "def next_batch(num, data, labels):\n",
    "    idx = np.arange(0 , len(data))\n",
    "    np.random.shuffle(idx)\n",
    "    idx = idx[:num]\n",
    "    data_shuffle = [data[ i] for i in idx]\n",
    "    labels_shuffle = [labels[ i] for i in idx]\n",
    "    return np.asarray(data_shuffle).astype(np.float32), np.asarray(labels_shuffle).astype(np.float32)"
   ]
  },
  {
   "cell_type": "code",
   "execution_count": null,
   "metadata": {
    "scrolled": false
   },
   "outputs": [
    {
     "name": "stdout",
     "output_type": "stream",
     "text": [
      "Step: 0  Loss: 2.3728218  Accuracy: 0.0884\n",
      "Step: 10  Loss: 2.3553486  Accuracy: 0.1058\n",
      "Step: 20  Loss: 2.3717403  Accuracy: 0.0894\n",
      "Step: 30  Loss: 2.3611372  Accuracy: 0.1\n",
      "Step: 40  Loss: 2.3587346  Accuracy: 0.1024\n",
      "Step: 50  Loss: 2.356944  Accuracy: 0.1042\n",
      "Step: 60  Loss: 2.3248699  Accuracy: 0.1362\n",
      "Step: 70  Loss: 2.3135471  Accuracy: 0.1476\n",
      "Step: 80  Loss: 2.3049474  Accuracy: 0.1562\n",
      "Step: 90  Loss: 2.300154  Accuracy: 0.161\n",
      "Step: 100  Loss: 2.296543  Accuracy: 0.1646\n",
      "Step: 110  Loss: 2.2987487  Accuracy: 0.1624\n",
      "Step: 120  Loss: 2.2979288  Accuracy: 0.1632\n",
      "Step: 130  Loss: 2.3045416  Accuracy: 0.1566\n",
      "Step: 140  Loss: 2.294153  Accuracy: 0.167\n",
      "Step: 150  Loss: 2.302156  Accuracy: 0.159\n",
      "Step: 160  Loss: 2.2976847  Accuracy: 0.1634\n",
      "Step: 170  Loss: 2.299694  Accuracy: 0.1614\n",
      "Step: 180  Loss: 2.2947478  Accuracy: 0.1664\n",
      "Step: 190  Loss: 2.287135  Accuracy: 0.174\n",
      "Step: 200  Loss: 2.2885435  Accuracy: 0.1726\n",
      "Step: 210  Loss: 2.2825143  Accuracy: 0.1786\n",
      "Step: 220  Loss: 2.282135  Accuracy: 0.179\n",
      "Step: 230  Loss: 2.2783382  Accuracy: 0.1828\n",
      "Step: 240  Loss: 2.2769485  Accuracy: 0.1842\n",
      "Step: 250  Loss: 2.2659671  Accuracy: 0.1952\n",
      "Step: 260  Loss: 2.26712  Accuracy: 0.194\n",
      "Step: 270  Loss: 2.2749417  Accuracy: 0.1862\n",
      "Step: 280  Loss: 2.2867422  Accuracy: 0.1744\n",
      "Step: 290  Loss: 2.2601297  Accuracy: 0.201\n",
      "Step: 300  Loss: 2.266307  Accuracy: 0.1948\n",
      "Step: 310  Loss: 2.2567894  Accuracy: 0.2042\n",
      "Step: 320  Loss: 2.2555277  Accuracy: 0.2056\n",
      "Step: 330  Loss: 2.2345612  Accuracy: 0.2266\n",
      "Step: 340  Loss: 2.2347374  Accuracy: 0.2264\n",
      "Step: 350  Loss: 2.2435343  Accuracy: 0.2176\n",
      "Step: 360  Loss: 2.2406442  Accuracy: 0.2206\n",
      "Step: 370  Loss: 2.2361484  Accuracy: 0.225\n",
      "Step: 380  Loss: 2.2291427  Accuracy: 0.232\n",
      "Step: 390  Loss: 2.2355492  Accuracy: 0.2256\n",
      "Step: 400  Loss: 2.2253475  Accuracy: 0.2358\n",
      "Step: 410  Loss: 2.227546  Accuracy: 0.2336\n",
      "Step: 420  Loss: 2.2309399  Accuracy: 0.2302\n",
      "Step: 430  Loss: 2.232602  Accuracy: 0.2286\n",
      "Step: 440  Loss: 2.2416928  Accuracy: 0.2194\n",
      "Step: 450  Loss: 2.236141  Accuracy: 0.225\n",
      "Step: 460  Loss: 2.2399187  Accuracy: 0.2212\n",
      "Step: 470  Loss: 2.2091436  Accuracy: 0.252\n",
      "Step: 480  Loss: 2.2250037  Accuracy: 0.2362\n",
      "Step: 490  Loss: 2.2178645  Accuracy: 0.2432\n",
      "Step: 500  Loss: 2.2127905  Accuracy: 0.2484\n",
      "Step: 510  Loss: 2.2189302  Accuracy: 0.2422\n",
      "Step: 520  Loss: 2.2139328  Accuracy: 0.2472\n",
      "Step: 530  Loss: 2.2251499  Accuracy: 0.236\n"
     ]
    }
   ],
   "source": [
    "\n",
    "with tf.Session(graph=graph, config=config) as session:\n",
    "    init = tf.group(tf.global_variables_initializer(), tf.local_variables_initializer())\n",
    "    session.run(init)\n",
    "    \n",
    "    for step in range(3000):\n",
    "\n",
    "        X0, Y0 = next_batch(batch_size, x_train, y_train)\n",
    "        X02=X0\n",
    "        \n",
    "        feed_dict = {\n",
    "        X: norm(X0.reshape(-1,784)),\n",
    "        X2: norm(X02.reshape(-1,784)),\n",
    "        Y: pd.get_dummies(Y0)}\n",
    "        \n",
    "        J_value = session.run(loss, feed_dict)\n",
    "        acc = (batch_size-session.run(tf.count_nonzero(tf.add(tf.argmax(session.run(Y, feed_dict),1),-tf.argmax(session.run(p_output, feed_dict),1)))))/batch_size\n",
    "        if step % 10 == 0:\n",
    "            print(\"Step:\", step, \" Loss:\", J_value,\" Accuracy:\", acc)\n",
    "        session.run(minimization_op, feed_dict)\n"
   ]
  },
  {
   "cell_type": "code",
   "execution_count": null,
   "metadata": {},
   "outputs": [],
   "source": []
  },
  {
   "cell_type": "code",
   "execution_count": null,
   "metadata": {
    "scrolled": false
   },
   "outputs": [],
   "source": [
    "with tf.Session() as session:\n",
    "    session.run(tf.global_variables_initializer())\n",
    "    W_hidden_value = session.run(W_hidden)\n",
    "    print(\"Hidden layer weight matrix:\\n\", W_hidden_value)\n",
    "    b_hidden_value = session.run(b_hidden)\n",
    "    print(\"Hidden layer bias:\\n\", b_hidden_value)\n",
    "    W_output_value = session.run(W_output)\n",
    "    print(\"Output layer weight matrix:\\n\", W_output_value)\n",
    "    b_output_value = session.run(b_output)\n",
    "    print(\"Output layer bias:\\n\", b_output_value)"
   ]
  },
  {
   "cell_type": "code",
   "execution_count": null,
   "metadata": {},
   "outputs": [],
   "source": []
  },
  {
   "cell_type": "code",
   "execution_count": null,
   "metadata": {},
   "outputs": [],
   "source": [
    "from sklearn.metrics import confusion_matrix\n",
    "confusion_matrix(y_test, np.argmax(np.array(pred00).reshape(60000,-1),axis=1))"
   ]
  },
  {
   "cell_type": "code",
   "execution_count": null,
   "metadata": {},
   "outputs": [],
   "source": []
  }
 ],
 "metadata": {
  "kernelspec": {
   "display_name": "Python 3",
   "language": "python",
   "name": "python3"
  },
  "language_info": {
   "codemirror_mode": {
    "name": "ipython",
    "version": 3
   },
   "file_extension": ".py",
   "mimetype": "text/x-python",
   "name": "python",
   "nbconvert_exporter": "python",
   "pygments_lexer": "ipython3",
   "version": "3.5.3"
  }
 },
 "nbformat": 4,
 "nbformat_minor": 2
}
